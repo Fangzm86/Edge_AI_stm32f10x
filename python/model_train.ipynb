{
 "cells": [
  {
   "cell_type": "markdown",
   "id": "db984d8b",
   "metadata": {},
   "source": [
    "# A Tutorial on Model Training in Python with Keras"
   ]
  },
  {
   "cell_type": "code",
   "execution_count": 1,
   "id": "f4ec30c6",
   "metadata": {},
   "outputs": [
    {
     "name": "stdout",
     "output_type": "stream",
     "text": [
      "✅ project root added: e:\\Data Files\\Projects\\Embedded Systems\\f103_demo_vscode\n"
     ]
    }
   ],
   "source": [
    "# cell 1: 永久性路径配置\n",
    "import sys\n",
    "from pathlib import Path\n",
    "\n",
    "def add_project_root():\n",
    "    \"\"\"add python project root to sys.path\"\"\"\n",
    "    notebook_path = Path().absolute()  # Get the absolute path of the notebook\n",
    "    project_root = notebook_path.parent  # Go up two levels to the project root\n",
    "\n",
    "    if str(project_root) not in sys.path:\n",
    "        sys.path.insert(0, str(project_root))  # search project root first\n",
    "        print(f\"✅ project root added: {project_root}\")\n",
    "    else:\n",
    "        print(\"⏩ project root already exists\")\n",
    "    \n",
    "    return project_root\n",
    "\n",
    "project_root = add_project_root()\n"
   ]
  },
  {
   "cell_type": "code",
   "execution_count": 2,
   "id": "3125a001",
   "metadata": {},
   "outputs": [],
   "source": [
    "from data_processing import create_windows\n",
    "import numpy as np\n",
    "import pandas as pd\n",
    "from sklearn.model_selection import train_test_split\n",
    "from model import MyCNNModel\n",
    "import keras\n"
   ]
  },
  {
   "cell_type": "markdown",
   "id": "6ca9f2a2",
   "metadata": {},
   "source": [
    "## 1. Pre-process data"
   ]
  },
  {
   "cell_type": "code",
   "execution_count": 3,
   "id": "6f9d0a1f",
   "metadata": {},
   "outputs": [
    {
     "name": "stdout",
     "output_type": "stream",
     "text": [
      "Loading dataset from ./data/mafaulda19.csv\n",
      "[[0.1268389  0.50210248 0.42535302 0.49732183 0.45425745 0.51582176\n",
      "  0.34823428]\n",
      " [0.12390014 0.79841099 0.56313183 0.57897221 0.47493213 0.53154488\n",
      "  0.36121152]\n",
      " [0.13653318 0.38906528 0.36739579 0.56287525 0.45272538 0.52438231\n",
      "  0.32922548]\n",
      " [0.11404636 0.76992723 0.61350561 0.61937753 0.48076297 0.53406649\n",
      "  0.34672639]\n",
      " [0.14071314 0.49854315 0.33360714 0.56348694 0.46513774 0.55279058\n",
      "  0.32424605]\n",
      " [0.13252692 0.65480122 0.58415628 0.52554504 0.47726446 0.59921238\n",
      "  0.3411011 ]\n",
      " [0.11675141 0.64901484 0.39020151 0.42395862 0.46699559 0.58795604\n",
      "  0.34841398]\n",
      " [0.12332849 0.53862245 0.50149669 0.36988451 0.46345459 0.59455294\n",
      "  0.36118287]\n",
      " [0.12170199 0.77000319 0.48721797 0.34031024 0.46977881 0.59797623\n",
      "  0.38057138]\n",
      " [0.13794176 0.44185517 0.39682818 0.30800992 0.45284342 0.59034973\n",
      "  0.37364967]\n",
      " [0.13480719 0.81156668 0.55976619 0.38185251 0.47349449 0.60342638\n",
      "  0.40327999]\n",
      " [0.13193159 0.47252951 0.31846178 0.40229121 0.45716343 0.59978576\n",
      "  0.39197771]\n",
      " [0.1203613  0.78710863 0.59241655 0.50893279 0.48186776 0.61646295\n",
      "  0.41900776]\n",
      " [0.11625557 0.5372446  0.33245962 0.51037227 0.46976464 0.61082477\n",
      "  0.40696943]\n",
      " [0.12324322 0.61863263 0.55068451 0.5655348  0.48300323 0.61099277\n",
      "  0.40780564]\n",
      " [0.1180163  0.66842785 0.40049838 0.53655029 0.4835934  0.60279289\n",
      "  0.38369889]\n",
      " [0.12131984 0.48857308 0.46273804 0.48783652 0.47772243 0.59620524\n",
      "  0.36032085]\n",
      " [0.11701671 0.78276391 0.508483   0.44927427 0.48947617 0.60843108\n",
      "  0.36267254]\n",
      " [0.12615671 0.42515989 0.39222889 0.38610781 0.47546564 0.60326762\n",
      "  0.33959581]\n",
      " [0.12185358 0.79187871 0.59280111 0.41891477 0.5002762  0.61890596\n",
      "  0.35359654]\n",
      " [0.12089505 0.47555562 0.34527919 0.38801604 0.48272468 0.60886573\n",
      "  0.33134538]\n",
      " [0.11397057 0.69821958 0.58839255 0.41025658 0.49967423 0.61623484\n",
      "  0.35274493]\n",
      " [0.12787954 0.63209321 0.37932933 0.38555595 0.4894384  0.60848965\n",
      "  0.34478358]\n",
      " [0.10880839 0.63265681 0.52840794 0.45593181 0.49470976 0.61242775\n",
      "  0.35909422]\n",
      " [0.12775321 0.73611132 0.42976158 0.55136601 0.49649914 0.61459332\n",
      "  0.3783895 ]\n",
      " [0.11574867 0.5670743  0.43307184 0.60470343 0.48574396 0.61270365\n",
      "  0.38683135]\n",
      " [0.1172441  0.79171161 0.50926165 0.60332711 0.49930833 0.61152761\n",
      "  0.40519996]\n",
      " [0.12422702 0.532672   0.37985541 0.5547636  0.48085975 0.56918109\n",
      "  0.38166181]\n",
      " [0.11360263 0.79967187 0.5737302  0.56928478 0.49939803 0.58448342\n",
      "  0.39860722]\n",
      " [0.12037236 0.59908092 0.35588986 0.52785553 0.48046316 0.57982398\n",
      "  0.38256836]\n",
      " [0.12213625 0.71592356 0.5609537  0.48679038 0.49403461 0.58871746\n",
      "  0.39411662]\n",
      " [0.10686922 0.67770672 0.38143978 0.38723812 0.48581006 0.5834646\n",
      "  0.38027215]\n",
      " [0.1328238  0.63171191 0.49898683 0.33989801 0.48663157 0.58300991\n",
      "  0.37410021]\n",
      " [0.10183179 0.76534401 0.44721427 0.37799616 0.49270555 0.58222846\n",
      "  0.36573519]\n",
      " [0.13057196 0.57476567 0.40364252 0.44683945 0.47947404 0.56803434\n",
      "  0.34379395]\n",
      " [0.10705397 0.81404287 0.51202861 0.53216867 0.49493638 0.58044822\n",
      "  0.36383405]\n",
      " [0.12458548 0.54699288 0.3380403  0.54586007 0.47263993 0.57189229\n",
      "  0.35352883]\n",
      " [0.10754351 0.79257751 0.54885095 0.5784802  0.48976653 0.58797454\n",
      "  0.37520704]\n",
      " [0.13196633 0.60706898 0.32994309 0.53995851 0.4728217  0.57638219\n",
      "  0.35198708]\n",
      " [0.08997568 0.68494083 0.52723581 0.54855353 0.48278841 0.58230706\n",
      "  0.35905516]\n",
      " [0.16225089 0.7025962  0.37829257 0.53627702 0.47748873 0.5790826\n",
      "  0.35996927]\n",
      " [0.03481982 0.60732754 0.4675573  0.50644344 0.4738179  0.57078407\n",
      "  0.36329757]\n",
      " [0.61214983 0.78609081 0.48099246 0.44838997 0.48530488 0.57264292\n",
      "  0.3780249 ]\n",
      " [0.98643527 0.54360065 0.4064267  0.39569551 0.47082458 0.56386967\n",
      "  0.36339132]\n",
      " [0.88399709 0.80956143 0.54638056 0.43334087 0.48535681 0.56553122\n",
      "  0.36997239]\n",
      " [0.94686227 0.53222386 0.33637902 0.44719849 0.47140294 0.55310809\n",
      "  0.3404943 ]\n",
      " [0.90086221 0.7516475  0.56971235 0.48186222 0.49048889 0.5510797\n",
      "  0.35005209]\n",
      " [0.93776648 0.63447825 0.3629657  0.4806067  0.4776162  0.54830068\n",
      "  0.34601542]\n",
      " [0.90762088 0.63561153 0.54140901 0.52600648 0.48153726 0.51744941\n",
      "  0.35803688]\n",
      " [0.93149733 0.72266547 0.42134133 0.55648566 0.47977385 0.48975786\n",
      "  0.35041929]\n",
      " [0.91287939 0.57793762 0.45684049 0.55881942 0.47203324 0.48944959\n",
      "  0.33504349]\n",
      " [0.92636516 0.79783372 0.51388033 0.54416925 0.48142867 0.48627445\n",
      "  0.34123131]\n",
      " [0.91750624 0.54572592 0.40148593 0.48538115 0.46416043 0.48148091\n",
      "  0.32936872]\n",
      " [0.922291   0.80919683 0.58810952 0.50100265 0.4791766  0.48473312\n",
      "  0.35468514]\n",
      " [0.92031709 0.55010102 0.3650823  0.46501951 0.46288331 0.47374343\n",
      "  0.34071827]\n",
      " [0.92015918 0.72655142 0.589497   0.45405283 0.47609594 0.48064859\n",
      "  0.35482056]\n",
      " [0.92128036 0.64419767 0.39013998 0.40181249 0.4659144  0.47796668\n",
      "  0.34477317]\n",
      " [0.92008022 0.63249427 0.53262883 0.37427278 0.46809093 0.47910726\n",
      "  0.34627324]\n",
      " [0.920475   0.75873426 0.45914167 0.36557603 0.46956635 0.48706053\n",
      "  0.35752123]\n",
      " [0.92132773 0.5434457  0.45664359 0.40616086 0.45602323 0.48844773\n",
      "  0.35816188]\n",
      " [0.91861163 0.80432042 0.55519151 0.49486573 0.46750785 0.49963779\n",
      "  0.37131621]\n",
      " [0.92295424 0.53812569 0.40810029 0.50508973 0.44855882 0.4924706\n",
      "  0.34845304]\n",
      " [0.91698512 0.78890121 0.62056607 0.54070984 0.45943675 0.50309037\n",
      "  0.3641674 ]\n",
      " [0.92390171 0.58837711 0.3866236  0.49709975 0.43948679 0.49233188\n",
      "  0.35169019]\n",
      " [0.91641664 0.7063758  0.58903861 0.50162632 0.44790727 0.50290541\n",
      "  0.36970936]\n",
      " [0.92342798 0.68958178 0.41683741 0.47997894 0.44177427 0.49749534\n",
      "  0.36655555]\n",
      " [0.91763257 0.61148146 0.53348716 0.47427783 0.43893204 0.50030056\n",
      "  0.36633939]\n",
      " [0.92123298 0.7677093  0.51914321 0.44095917 0.44337244 0.50224264\n",
      "  0.36944372]\n",
      " [0.9201118  0.53434609 0.46781634 0.39338169 0.4287505  0.50039304\n",
      "  0.35236471]\n",
      " [0.91853267 0.80647759 0.59045378 0.39065565 0.44266188 0.5176467\n",
      "  0.36714412]\n",
      " [0.92221205 0.53872119 0.39666205 0.36507071 0.4238356  0.5084542\n",
      "  0.35406532]\n",
      " [0.91681142 0.76118614 0.61911091 0.4134547  0.43953637 0.52127653\n",
      "  0.37435804]\n",
      " [0.92303319 0.62497881 0.40007691 0.42360822 0.42510092 0.51005718\n",
      "  0.35722954]\n",
      " [0.91673246 0.67484923 0.60525765 0.45846437 0.42954604 0.50953313\n",
      "  0.35975311]\n",
      " [0.92208572 0.69920245 0.46813259 0.46930672 0.42083756 0.5001156\n",
      "  0.35446898]\n",
      " [0.91823264 0.55197108 0.54027688 0.47967146 0.41049078 0.49535289\n",
      "  0.3523595 ]\n",
      " [0.91982756 0.772449   0.56770651 0.5224194  0.41531834 0.50151821\n",
      "  0.36323246]\n",
      " [0.92044342 0.52639494 0.47937763 0.55128623 0.39398503 0.49274804\n",
      "  0.35298713]\n",
      " [0.91749045 0.80220882 0.64966005 0.59874602 0.40542952 0.50019267\n",
      "  0.36979009]\n",
      " [0.92206992 0.51992192 0.43782803 0.52374718 0.38149241 0.48903343\n",
      "  0.34957029]\n",
      " [0.91616398 0.7062406  0.66731887 0.46789782 0.38866646 0.4987284\n",
      "  0.36796969]\n",
      " [0.92241733 0.62256323 0.44823566 0.3822182  0.37199783 0.49282511\n",
      "  0.36045107]\n",
      " [0.91654297 0.63085968 0.61711429 0.4113603  0.37333632 0.49717166\n",
      "  0.36934476]\n",
      " [0.92101191 0.73408024 0.49470217 0.45227625 0.37135337 0.491777\n",
      "  0.36611803]\n",
      " [0.91826422 0.54348975 0.51316905 0.48888704 0.36127806 0.48682933\n",
      "  0.35029168]\n",
      " [0.91873796 0.79195467 0.573481   0.47605435 0.37054602 0.49251684\n",
      "  0.35689359]\n",
      " [0.92031709 0.52539535 0.42189817 0.41149992 0.35322584 0.48132678\n",
      "  0.33752539]\n",
      " [0.91670088 0.78110806 0.63278265 0.46478414 0.3653502  0.49387321\n",
      "  0.35361217]\n",
      " [0.92176989 0.54218482 0.3693801  0.48886577 0.34480064 0.49313337\n",
      "  0.34127819]\n",
      " [0.9157534  0.70533824 0.6351146  0.58794157 0.3526522  0.5142496\n",
      "  0.35474243]\n",
      " [0.92146985 0.64130676 0.40531611 0.54536074 0.33993532 0.50235053\n",
      "  0.33749414]\n",
      " [0.91646401 0.61652434 0.56926011 0.46748359 0.33879276 0.50828465\n",
      "  0.33354602]\n",
      " [0.92000126 0.7464156  0.49700062 0.38403335 0.33963787 0.50728279\n",
      "  0.34017397]\n",
      " [0.91835897 0.5012229  0.47402584 0.37059594 0.32763627 0.50500162\n",
      "  0.33793166]\n",
      " [0.91769573 0.79771218 0.60808491 0.44761272 0.33669413 0.51603755\n",
      "  0.35737018]\n",
      " [0.92072766 0.50857703 0.40674665 0.46613852 0.31819362 0.50583394\n",
      "  0.34328611]\n",
      " [0.91578499 0.78028772 0.65715121 0.5171455  0.33474422 0.51196843\n",
      "  0.35450023]\n",
      " [0.9215646  0.54818691 0.38474696 0.4548128  0.31649394 0.50097875\n",
      "  0.32684775]\n",
      " [0.91526387 0.6900755  0.63198892 0.49094554 0.32821463 0.50600348\n",
      "  0.33433512]\n",
      " [0.92129615 0.66657754 0.43647439 0.49229526 0.32475626 0.51113611\n",
      "  0.33035054]\n",
      " [0.91663772 0.57246419 0.56245501 0.51726451 0.32610184 0.51592965\n",
      "  0.33239231]\n",
      " [0.91914853 0.74843453 0.53893555 0.50874063 0.33345766 0.51860695\n",
      "  0.33382728]\n",
      " [0.91891166 0.46905829 0.44993386 0.48010705 0.32421331 0.51375638\n",
      "  0.30895359]\n",
      " [0.91665351 0.79964148 0.61504692 0.52553706 0.33959066 0.52377965\n",
      "  0.31847232]\n",
      " [0.92099612 0.44480228 0.35322258 0.49186375 0.32126248 0.51854683\n",
      "  0.30118756]\n",
      " [0.91496384 0.73563735 0.63099831 0.54820779 0.33710724 0.53280106\n",
      "  0.32322256]\n",
      " [0.92153302 0.55245872 0.35281341 0.47627217 0.32022379 0.52400777\n",
      "  0.31945153]\n",
      " [0.915027   0.65454753 0.60559299 0.49708646 0.32721135 0.54121827\n",
      "  0.33635085]\n",
      " [0.92045921 0.67739833 0.45641594 0.48662383 0.32338708 0.53534271\n",
      "  0.34144747]\n",
      " [0.91673246 0.53123338 0.51501861 0.49252598 0.32057789 0.56476055\n",
      "  0.34717173]\n",
      " [0.91805893 0.76520577 0.52517305 0.46411792 0.32744742 0.5862837\n",
      "  0.36686286]\n",
      " [0.91905379 0.41403983 0.40105522 0.37731132 0.3177451  0.57215894\n",
      "  0.36721965]\n",
      " [0.91564286 0.78985826 0.62607291 0.38455861 0.3375298  0.58604633\n",
      "  0.39745664]\n",
      " [0.92074345 0.43395567 0.37395785 0.3267066  0.32511036 0.57489943\n",
      "  0.38489479]\n",
      " [0.91441114 0.69837149 0.62548839 0.41330177 0.34162083 0.58328735\n",
      "  0.38774129]\n",
      " [0.92090137 0.56627524 0.42995847 0.43130365 0.33358986 0.57815318\n",
      "  0.36740455]\n",
      " [0.91486909 0.57964361 0.57760345 0.5219839  0.33873846 0.58771868\n",
      "  0.36485494]\n",
      " [0.91951173 0.68784693 0.47848854 0.57112652 0.33926017 0.59608656\n",
      "  0.36935517]\n",
      " [0.91700092 0.4700518  0.48320197 0.6012726  0.33309412 0.59412753\n",
      "  0.36919892]\n",
      " [0.91693775 0.77591262 0.54648823 0.61753579 0.34341965 0.5953945\n",
      "  0.37676441]\n",
      " [0.9193854  0.43893843 0.42553146 0.54227698 0.32914001 0.58190169\n",
      "  0.35091411]\n",
      " [0.91477434 0.80509517 0.60576219 0.56062127 0.33922004 0.58323803\n",
      "  0.35904995]\n",
      " [0.92060133 0.438984   0.38168589 0.46919169 0.32220675 0.57498728\n",
      "  0.35305224]\n",
      " [0.91390582 0.63924529 0.57959699 0.47631911 0.33096716 0.58651181\n",
      "  0.37804313]\n",
      " [0.92039605 0.56624182 0.38812183 0.3843259  0.3245202  0.58671835\n",
      "  0.38388796]\n",
      " [0.91483751 0.53387516 0.51761944 0.35087533 0.32699889 0.59220857\n",
      "  0.38420074]\n",
      " [0.91845372 0.73491728 0.48435625 0.3372185  0.33197989 0.59289138\n",
      "  0.38004297]\n",
      " [0.91695354 0.43340878 0.45475773 0.36489119 0.32522839 0.58711447\n",
      "  0.36108131]]\n",
      "(89873, 128, 7)\n"
     ]
    }
   ],
   "source": [
    "import yaml\n",
    "with open((project_root / 'config.yaml'), 'r') as file:\n",
    "    config = yaml.safe_load(file)\n",
    "# Load data\n",
    "ds_config = config['datasets'][config['active_dataset']]\n",
    "print(f\"Loading dataset from {ds_config['path']}\")\n",
    "data = pd.read_csv(project_root / ds_config['path'])\n",
    "data_columns = ds_config['features']\n",
    "norm_windows, labels, _ = create_windows(\n",
    "    data,\n",
    "    window_length=config['data_processing']['window']['length'],\n",
    "    step_size=config['data_processing']['window']['step_size'],\n",
    "    overlap=None,\n",
    "    feature_columns=data_columns,\n",
    "    label_column=ds_config['label_column'],\n",
    ")\n",
    "print(norm_windows[0])\n",
    "print(norm_windows.shape)"
   ]
  },
  {
   "cell_type": "markdown",
   "id": "532cd1bb",
   "metadata": {},
   "source": [
    "## 2. split train, validation and test data"
   ]
  },
  {
   "cell_type": "code",
   "execution_count": 4,
   "id": "cdfe185b",
   "metadata": {},
   "outputs": [
    {
     "name": "stdout",
     "output_type": "stream",
     "text": [
      "(71898, 128, 7) (71898, 6)\n",
      "[[0. 0. 0. 0. 0. 1.]\n",
      " [0. 0. 1. 0. 0. 0.]\n",
      " [0. 0. 1. 0. 0. 0.]\n",
      " ...\n",
      " [0. 0. 0. 0. 0. 1.]\n",
      " [1. 0. 0. 0. 0. 0.]\n",
      " [0. 1. 0. 0. 0. 0.]]\n",
      "6\n"
     ]
    }
   ],
   "source": [
    "X_train, X_test, y_train, y_test = train_test_split(\n",
    "    norm_windows, labels, test_size=0.2, random_state=42\n",
    ")\n",
    "y_train = keras.utils.to_categorical(y_train, num_classes=len(np.unique(labels)))\n",
    "y_test = keras.utils.to_categorical(y_test, num_classes=len(np.unique(labels)))\n",
    "\n",
    "print(X_train.shape, y_train.shape)\n",
    "model_input_shape = (X_train.shape[1], X_train.shape[2]) # (window_length, num_features)\n",
    "num_classes = y_train.shape[1]  # Number of classes for one-hot encoding\n",
    "print(y_train)\n",
    "print(num_classes)"
   ]
  },
  {
   "cell_type": "code",
   "execution_count": 5,
   "id": "2455470e",
   "metadata": {},
   "outputs": [
    {
     "name": "stderr",
     "output_type": "stream",
     "text": [
      "c:\\.venv\\EdgeAI\\lib\\site-packages\\keras\\src\\layers\\convolutional\\base_conv.py:107: UserWarning: Do not pass an `input_shape`/`input_dim` argument to a layer. When using Sequential models, prefer using an `Input(shape)` object as the first layer in the model instead.\n",
      "  super().__init__(activity_regularizer=activity_regularizer, **kwargs)\n"
     ]
    },
    {
     "name": "stdout",
     "output_type": "stream",
     "text": [
      "Epoch 1/50\n",
      "\u001b[1m19/20\u001b[0m \u001b[32m━━━━━━━━━━━━━━━━━━━\u001b[0m\u001b[37m━\u001b[0m \u001b[1m0s\u001b[0m 81ms/step - accuracy: 0.2389 - auc: 0.5823 - f1_score: 0.2004 - loss: 1.7542 - precision: 0.3039 - recall: 0.0029  "
     ]
    },
    {
     "name": "stderr",
     "output_type": "stream",
     "text": [
      "WARNING:absl:You are saving your model as an HDF5 file via `model.save()` or `keras.saving.save_model(model)`. This file format is considered legacy. We recommend using instead the native Keras format, e.g. `model.save('my_model.keras')` or `keras.saving.save_model(model, 'my_model.keras')`. \n"
     ]
    },
    {
     "name": "stdout",
     "output_type": "stream",
     "text": [
      "\u001b[1m20/20\u001b[0m \u001b[32m━━━━━━━━━━━━━━━━━━━━\u001b[0m\u001b[37m\u001b[0m \u001b[1m4s\u001b[0m 110ms/step - accuracy: 0.2464 - auc: 0.5892 - f1_score: 0.2089 - loss: 1.7468 - precision: 0.3443 - recall: 0.0044 - val_accuracy: 0.3770 - val_auc: 0.7581 - val_f1_score: 0.3159 - val_loss: 1.4907 - val_precision: 0.8769 - val_recall: 0.0728\n",
      "Epoch 2/50\n",
      "\u001b[1m19/20\u001b[0m \u001b[32m━━━━━━━━━━━━━━━━━━━\u001b[0m\u001b[37m━\u001b[0m \u001b[1m0s\u001b[0m 80ms/step - accuracy: 0.4487 - auc: 0.8019 - f1_score: 0.4189 - loss: 1.3926 - precision: 0.8487 - recall: 0.1276"
     ]
    },
    {
     "name": "stderr",
     "output_type": "stream",
     "text": [
      "WARNING:absl:You are saving your model as an HDF5 file via `model.save()` or `keras.saving.save_model(model)`. This file format is considered legacy. We recommend using instead the native Keras format, e.g. `model.save('my_model.keras')` or `keras.saving.save_model(model, 'my_model.keras')`. \n"
     ]
    },
    {
     "name": "stdout",
     "output_type": "stream",
     "text": [
      "\u001b[1m20/20\u001b[0m \u001b[32m━━━━━━━━━━━━━━━━━━━━\u001b[0m\u001b[37m\u001b[0m \u001b[1m2s\u001b[0m 87ms/step - accuracy: 0.4531 - auc: 0.8052 - f1_score: 0.4244 - loss: 1.3841 - precision: 0.8524 - recall: 0.1309 - val_accuracy: 0.5974 - val_auc: 0.8977 - val_f1_score: 0.5988 - val_loss: 1.0919 - val_precision: 0.9240 - val_recall: 0.2469\n",
      "Epoch 3/50\n",
      "\u001b[1m19/20\u001b[0m \u001b[32m━━━━━━━━━━━━━━━━━━━\u001b[0m\u001b[37m━\u001b[0m \u001b[1m0s\u001b[0m 83ms/step - accuracy: 0.6183 - auc: 0.9092 - f1_score: 0.6209 - loss: 1.0252 - precision: 0.9140 - recall: 0.3171"
     ]
    },
    {
     "name": "stderr",
     "output_type": "stream",
     "text": [
      "WARNING:absl:You are saving your model as an HDF5 file via `model.save()` or `keras.saving.save_model(model)`. This file format is considered legacy. We recommend using instead the native Keras format, e.g. `model.save('my_model.keras')` or `keras.saving.save_model(model, 'my_model.keras')`. \n"
     ]
    },
    {
     "name": "stdout",
     "output_type": "stream",
     "text": [
      "\u001b[1m20/20\u001b[0m \u001b[32m━━━━━━━━━━━━━━━━━━━━\u001b[0m\u001b[37m\u001b[0m \u001b[1m2s\u001b[0m 90ms/step - accuracy: 0.6207 - auc: 0.9102 - f1_score: 0.6233 - loss: 1.0193 - precision: 0.9136 - recall: 0.3217 - val_accuracy: 0.7067 - val_auc: 0.9406 - val_f1_score: 0.7146 - val_loss: 0.8291 - val_precision: 0.9170 - val_recall: 0.4427\n",
      "Epoch 4/50\n",
      "\u001b[1m19/20\u001b[0m \u001b[32m━━━━━━━━━━━━━━━━━━━\u001b[0m\u001b[37m━\u001b[0m \u001b[1m0s\u001b[0m 82ms/step - accuracy: 0.7086 - auc: 0.9438 - f1_score: 0.7131 - loss: 0.8001 - precision: 0.9037 - recall: 0.4772"
     ]
    },
    {
     "name": "stderr",
     "output_type": "stream",
     "text": [
      "WARNING:absl:You are saving your model as an HDF5 file via `model.save()` or `keras.saving.save_model(model)`. This file format is considered legacy. We recommend using instead the native Keras format, e.g. `model.save('my_model.keras')` or `keras.saving.save_model(model, 'my_model.keras')`. \n"
     ]
    },
    {
     "name": "stdout",
     "output_type": "stream",
     "text": [
      "\u001b[1m20/20\u001b[0m \u001b[32m━━━━━━━━━━━━━━━━━━━━\u001b[0m\u001b[37m\u001b[0m \u001b[1m2s\u001b[0m 89ms/step - accuracy: 0.7101 - auc: 0.9444 - f1_score: 0.7145 - loss: 0.7966 - precision: 0.9034 - recall: 0.4799 - val_accuracy: 0.7720 - val_auc: 0.9628 - val_f1_score: 0.7757 - val_loss: 0.6694 - val_precision: 0.9096 - val_recall: 0.5812\n",
      "Epoch 5/50\n",
      "\u001b[1m19/20\u001b[0m \u001b[32m━━━━━━━━━━━━━━━━━━━\u001b[0m\u001b[37m━\u001b[0m \u001b[1m0s\u001b[0m 84ms/step - accuracy: 0.7761 - auc: 0.9644 - f1_score: 0.7791 - loss: 0.6516 - precision: 0.9071 - recall: 0.6007"
     ]
    },
    {
     "name": "stderr",
     "output_type": "stream",
     "text": [
      "WARNING:absl:You are saving your model as an HDF5 file via `model.save()` or `keras.saving.save_model(model)`. This file format is considered legacy. We recommend using instead the native Keras format, e.g. `model.save('my_model.keras')` or `keras.saving.save_model(model, 'my_model.keras')`. \n"
     ]
    },
    {
     "name": "stdout",
     "output_type": "stream",
     "text": [
      "\u001b[1m20/20\u001b[0m \u001b[32m━━━━━━━━━━━━━━━━━━━━\u001b[0m\u001b[37m\u001b[0m \u001b[1m2s\u001b[0m 92ms/step - accuracy: 0.7771 - auc: 0.9647 - f1_score: 0.7800 - loss: 0.6490 - precision: 0.9072 - recall: 0.6028 - val_accuracy: 0.8187 - val_auc: 0.9753 - val_f1_score: 0.8179 - val_loss: 0.5571 - val_precision: 0.9183 - val_recall: 0.6793\n",
      "Epoch 6/50\n",
      "\u001b[1m19/20\u001b[0m \u001b[32m━━━━━━━━━━━━━━━━━━━\u001b[0m\u001b[37m━\u001b[0m \u001b[1m0s\u001b[0m 84ms/step - accuracy: 0.8212 - auc: 0.9766 - f1_score: 0.8227 - loss: 0.5455 - precision: 0.9118 - recall: 0.6914"
     ]
    },
    {
     "name": "stderr",
     "output_type": "stream",
     "text": [
      "WARNING:absl:You are saving your model as an HDF5 file via `model.save()` or `keras.saving.save_model(model)`. This file format is considered legacy. We recommend using instead the native Keras format, e.g. `model.save('my_model.keras')` or `keras.saving.save_model(model, 'my_model.keras')`. \n"
     ]
    },
    {
     "name": "stdout",
     "output_type": "stream",
     "text": [
      "\u001b[1m20/20\u001b[0m \u001b[32m━━━━━━━━━━━━━━━━━━━━\u001b[0m\u001b[37m\u001b[0m \u001b[1m2s\u001b[0m 91ms/step - accuracy: 0.8217 - auc: 0.9767 - f1_score: 0.8233 - loss: 0.5435 - precision: 0.9117 - recall: 0.6931 - val_accuracy: 0.8096 - val_auc: 0.9769 - val_f1_score: 0.8062 - val_loss: 0.5145 - val_precision: 0.8783 - val_recall: 0.7327\n",
      "Epoch 7/50\n",
      "\u001b[1m19/20\u001b[0m \u001b[32m━━━━━━━━━━━━━━━━━━━\u001b[0m\u001b[37m━\u001b[0m \u001b[1m0s\u001b[0m 83ms/step - accuracy: 0.8241 - auc: 0.9796 - f1_score: 0.8249 - loss: 0.4888 - precision: 0.8910 - recall: 0.7476"
     ]
    },
    {
     "name": "stderr",
     "output_type": "stream",
     "text": [
      "WARNING:absl:You are saving your model as an HDF5 file via `model.save()` or `keras.saving.save_model(model)`. This file format is considered legacy. We recommend using instead the native Keras format, e.g. `model.save('my_model.keras')` or `keras.saving.save_model(model, 'my_model.keras')`. \n"
     ]
    },
    {
     "name": "stdout",
     "output_type": "stream",
     "text": [
      "\u001b[1m20/20\u001b[0m \u001b[32m━━━━━━━━━━━━━━━━━━━━\u001b[0m\u001b[37m\u001b[0m \u001b[1m2s\u001b[0m 91ms/step - accuracy: 0.8251 - auc: 0.9798 - f1_score: 0.8260 - loss: 0.4870 - precision: 0.8916 - recall: 0.7485 - val_accuracy: 0.8421 - val_auc: 0.9825 - val_f1_score: 0.8436 - val_loss: 0.4418 - val_precision: 0.8872 - val_recall: 0.7796\n",
      "Epoch 8/50\n",
      "\u001b[1m19/20\u001b[0m \u001b[32m━━━━━━━━━━━━━━━━━━━\u001b[0m\u001b[37m━\u001b[0m \u001b[1m0s\u001b[0m 84ms/step - accuracy: 0.8511 - auc: 0.9840 - f1_score: 0.8522 - loss: 0.4305 - precision: 0.9022 - recall: 0.7816"
     ]
    },
    {
     "name": "stderr",
     "output_type": "stream",
     "text": [
      "WARNING:absl:You are saving your model as an HDF5 file via `model.save()` or `keras.saving.save_model(model)`. This file format is considered legacy. We recommend using instead the native Keras format, e.g. `model.save('my_model.keras')` or `keras.saving.save_model(model, 'my_model.keras')`. \n"
     ]
    },
    {
     "name": "stdout",
     "output_type": "stream",
     "text": [
      "\u001b[1m20/20\u001b[0m \u001b[32m━━━━━━━━━━━━━━━━━━━━\u001b[0m\u001b[37m\u001b[0m \u001b[1m2s\u001b[0m 91ms/step - accuracy: 0.8519 - auc: 0.9841 - f1_score: 0.8530 - loss: 0.4297 - precision: 0.9028 - recall: 0.7825 - val_accuracy: 0.8872 - val_auc: 0.9897 - val_f1_score: 0.8865 - val_loss: 0.3770 - val_precision: 0.9402 - val_recall: 0.8159\n",
      "Epoch 9/50\n",
      "\u001b[1m19/20\u001b[0m \u001b[32m━━━━━━━━━━━━━━━━━━━\u001b[0m\u001b[37m━\u001b[0m \u001b[1m0s\u001b[0m 84ms/step - accuracy: 0.8815 - auc: 0.9888 - f1_score: 0.8821 - loss: 0.3789 - precision: 0.9266 - recall: 0.8191"
     ]
    },
    {
     "name": "stderr",
     "output_type": "stream",
     "text": [
      "WARNING:absl:You are saving your model as an HDF5 file via `model.save()` or `keras.saving.save_model(model)`. This file format is considered legacy. We recommend using instead the native Keras format, e.g. `model.save('my_model.keras')` or `keras.saving.save_model(model, 'my_model.keras')`. \n"
     ]
    },
    {
     "name": "stdout",
     "output_type": "stream",
     "text": [
      "\u001b[1m20/20\u001b[0m \u001b[32m━━━━━━━━━━━━━━━━━━━━\u001b[0m\u001b[37m\u001b[0m \u001b[1m2s\u001b[0m 92ms/step - accuracy: 0.8818 - auc: 0.9888 - f1_score: 0.8824 - loss: 0.3783 - precision: 0.9267 - recall: 0.8196 - val_accuracy: 0.9035 - val_auc: 0.9915 - val_f1_score: 0.9028 - val_loss: 0.3401 - val_precision: 0.9439 - val_recall: 0.8411\n",
      "Epoch 10/50\n",
      "\u001b[1m20/20\u001b[0m \u001b[32m━━━━━━━━━━━━━━━━━━━━\u001b[0m\u001b[37m\u001b[0m \u001b[1m2s\u001b[0m 90ms/step - accuracy: 0.9003 - auc: 0.9910 - f1_score: 0.9008 - loss: 0.3400 - precision: 0.9345 - recall: 0.8459 - val_accuracy: 0.8836 - val_auc: 0.9890 - val_f1_score: 0.8846 - val_loss: 0.3489 - val_precision: 0.9165 - val_recall: 0.8503\n",
      "Epoch 11/50\n",
      "\u001b[1m19/20\u001b[0m \u001b[32m━━━━━━━━━━━━━━━━━━━\u001b[0m\u001b[37m━\u001b[0m \u001b[1m0s\u001b[0m 84ms/step - accuracy: 0.8933 - auc: 0.9903 - f1_score: 0.8938 - loss: 0.3364 - precision: 0.9252 - recall: 0.8515"
     ]
    },
    {
     "name": "stderr",
     "output_type": "stream",
     "text": [
      "WARNING:absl:You are saving your model as an HDF5 file via `model.save()` or `keras.saving.save_model(model)`. This file format is considered legacy. We recommend using instead the native Keras format, e.g. `model.save('my_model.keras')` or `keras.saving.save_model(model, 'my_model.keras')`. \n"
     ]
    },
    {
     "name": "stdout",
     "output_type": "stream",
     "text": [
      "\u001b[1m20/20\u001b[0m \u001b[32m━━━━━━━━━━━━━━━━━━━━\u001b[0m\u001b[37m\u001b[0m \u001b[1m2s\u001b[0m 92ms/step - accuracy: 0.8941 - auc: 0.9904 - f1_score: 0.8947 - loss: 0.3350 - precision: 0.9258 - recall: 0.8523 - val_accuracy: 0.9203 - val_auc: 0.9935 - val_f1_score: 0.9196 - val_loss: 0.2927 - val_precision: 0.9479 - val_recall: 0.8752\n",
      "Epoch 12/50\n",
      "\u001b[1m20/20\u001b[0m \u001b[32m━━━━━━━━━━━━━━━━━━━━\u001b[0m\u001b[37m\u001b[0m \u001b[1m2s\u001b[0m 91ms/step - accuracy: 0.9182 - auc: 0.9929 - f1_score: 0.9184 - loss: 0.2952 - precision: 0.9436 - recall: 0.8791 - val_accuracy: 0.8892 - val_auc: 0.9914 - val_f1_score: 0.8896 - val_loss: 0.3021 - val_precision: 0.9140 - val_recall: 0.8586\n",
      "Epoch 13/50\n",
      "\u001b[1m19/20\u001b[0m \u001b[32m━━━━━━━━━━━━━━━━━━━\u001b[0m\u001b[37m━\u001b[0m \u001b[1m0s\u001b[0m 85ms/step - accuracy: 0.9138 - auc: 0.9930 - f1_score: 0.9143 - loss: 0.2862 - precision: 0.9373 - recall: 0.8829"
     ]
    },
    {
     "name": "stderr",
     "output_type": "stream",
     "text": [
      "WARNING:absl:You are saving your model as an HDF5 file via `model.save()` or `keras.saving.save_model(model)`. This file format is considered legacy. We recommend using instead the native Keras format, e.g. `model.save('my_model.keras')` or `keras.saving.save_model(model, 'my_model.keras')`. \n"
     ]
    },
    {
     "name": "stdout",
     "output_type": "stream",
     "text": [
      "\u001b[1m20/20\u001b[0m \u001b[32m━━━━━━━━━━━━━━━━━━━━\u001b[0m\u001b[37m\u001b[0m \u001b[1m2s\u001b[0m 94ms/step - accuracy: 0.9146 - auc: 0.9931 - f1_score: 0.9152 - loss: 0.2849 - precision: 0.9380 - recall: 0.8839 - val_accuracy: 0.9026 - val_auc: 0.9925 - val_f1_score: 0.9008 - val_loss: 0.2831 - val_precision: 0.9237 - val_recall: 0.8825\n",
      "Epoch 14/50\n",
      "\u001b[1m19/20\u001b[0m \u001b[32m━━━━━━━━━━━━━━━━━━━\u001b[0m\u001b[37m━\u001b[0m \u001b[1m0s\u001b[0m 84ms/step - accuracy: 0.9163 - auc: 0.9932 - f1_score: 0.9166 - loss: 0.2729 - precision: 0.9347 - recall: 0.8887"
     ]
    },
    {
     "name": "stderr",
     "output_type": "stream",
     "text": [
      "WARNING:absl:You are saving your model as an HDF5 file via `model.save()` or `keras.saving.save_model(model)`. This file format is considered legacy. We recommend using instead the native Keras format, e.g. `model.save('my_model.keras')` or `keras.saving.save_model(model, 'my_model.keras')`. \n"
     ]
    },
    {
     "name": "stdout",
     "output_type": "stream",
     "text": [
      "\u001b[1m20/20\u001b[0m \u001b[32m━━━━━━━━━━━━━━━━━━━━\u001b[0m\u001b[37m\u001b[0m \u001b[1m2s\u001b[0m 91ms/step - accuracy: 0.9168 - auc: 0.9933 - f1_score: 0.9172 - loss: 0.2721 - precision: 0.9353 - recall: 0.8893 - val_accuracy: 0.9166 - val_auc: 0.9940 - val_f1_score: 0.9150 - val_loss: 0.2586 - val_precision: 0.9390 - val_recall: 0.8965\n",
      "Epoch 15/50\n",
      "\u001b[1m19/20\u001b[0m \u001b[32m━━━━━━━━━━━━━━━━━━━\u001b[0m\u001b[37m━\u001b[0m \u001b[1m0s\u001b[0m 84ms/step - accuracy: 0.9353 - auc: 0.9952 - f1_score: 0.9353 - loss: 0.2383 - precision: 0.9530 - recall: 0.9112"
     ]
    },
    {
     "name": "stderr",
     "output_type": "stream",
     "text": [
      "WARNING:absl:You are saving your model as an HDF5 file via `model.save()` or `keras.saving.save_model(model)`. This file format is considered legacy. We recommend using instead the native Keras format, e.g. `model.save('my_model.keras')` or `keras.saving.save_model(model, 'my_model.keras')`. \n"
     ]
    },
    {
     "name": "stdout",
     "output_type": "stream",
     "text": [
      "\u001b[1m20/20\u001b[0m \u001b[32m━━━━━━━━━━━━━━━━━━━━\u001b[0m\u001b[37m\u001b[0m \u001b[1m2s\u001b[0m 91ms/step - accuracy: 0.9358 - auc: 0.9952 - f1_score: 0.9358 - loss: 0.2378 - precision: 0.9534 - recall: 0.9118 - val_accuracy: 0.9278 - val_auc: 0.9947 - val_f1_score: 0.9279 - val_loss: 0.2429 - val_precision: 0.9428 - val_recall: 0.9083\n",
      "Epoch 16/50\n",
      "\u001b[1m20/20\u001b[0m \u001b[32m━━━━━━━━━━━━━━━━━━━━\u001b[0m\u001b[37m\u001b[0m \u001b[1m2s\u001b[0m 91ms/step - accuracy: 0.9411 - auc: 0.9955 - f1_score: 0.9413 - loss: 0.2274 - precision: 0.9556 - recall: 0.9204 - val_accuracy: 0.9083 - val_auc: 0.9933 - val_f1_score: 0.9083 - val_loss: 0.2587 - val_precision: 0.9282 - val_recall: 0.8877\n",
      "Epoch 17/50\n",
      "\u001b[1m19/20\u001b[0m \u001b[32m━━━━━━━━━━━━━━━━━━━\u001b[0m\u001b[37m━\u001b[0m \u001b[1m0s\u001b[0m 84ms/step - accuracy: 0.9304 - auc: 0.9951 - f1_score: 0.9307 - loss: 0.2295 - precision: 0.9468 - recall: 0.9135"
     ]
    },
    {
     "name": "stderr",
     "output_type": "stream",
     "text": [
      "WARNING:absl:You are saving your model as an HDF5 file via `model.save()` or `keras.saving.save_model(model)`. This file format is considered legacy. We recommend using instead the native Keras format, e.g. `model.save('my_model.keras')` or `keras.saving.save_model(model, 'my_model.keras')`. \n"
     ]
    },
    {
     "name": "stdout",
     "output_type": "stream",
     "text": [
      "\u001b[1m20/20\u001b[0m \u001b[32m━━━━━━━━━━━━━━━━━━━━\u001b[0m\u001b[37m\u001b[0m \u001b[1m2s\u001b[0m 92ms/step - accuracy: 0.9310 - auc: 0.9951 - f1_score: 0.9313 - loss: 0.2285 - precision: 0.9472 - recall: 0.9141 - val_accuracy: 0.9356 - val_auc: 0.9956 - val_f1_score: 0.9352 - val_loss: 0.2173 - val_precision: 0.9497 - val_recall: 0.9130\n",
      "Epoch 18/50\n",
      "\u001b[1m19/20\u001b[0m \u001b[32m━━━━━━━━━━━━━━━━━━━\u001b[0m\u001b[37m━\u001b[0m \u001b[1m0s\u001b[0m 86ms/step - accuracy: 0.9407 - auc: 0.9959 - f1_score: 0.9408 - loss: 0.2102 - precision: 0.9532 - recall: 0.9221"
     ]
    },
    {
     "name": "stderr",
     "output_type": "stream",
     "text": [
      "WARNING:absl:You are saving your model as an HDF5 file via `model.save()` or `keras.saving.save_model(model)`. This file format is considered legacy. We recommend using instead the native Keras format, e.g. `model.save('my_model.keras')` or `keras.saving.save_model(model, 'my_model.keras')`. \n"
     ]
    },
    {
     "name": "stdout",
     "output_type": "stream",
     "text": [
      "\u001b[1m20/20\u001b[0m \u001b[32m━━━━━━━━━━━━━━━━━━━━\u001b[0m\u001b[37m\u001b[0m \u001b[1m2s\u001b[0m 93ms/step - accuracy: 0.9412 - auc: 0.9959 - f1_score: 0.9413 - loss: 0.2091 - precision: 0.9537 - recall: 0.9229 - val_accuracy: 0.9526 - val_auc: 0.9968 - val_f1_score: 0.9523 - val_loss: 0.1858 - val_precision: 0.9622 - val_recall: 0.9396\n",
      "Epoch 19/50\n",
      "\u001b[1m19/20\u001b[0m \u001b[32m━━━━━━━━━━━━━━━━━━━\u001b[0m\u001b[37m━\u001b[0m \u001b[1m0s\u001b[0m 86ms/step - accuracy: 0.9553 - auc: 0.9972 - f1_score: 0.9554 - loss: 0.1810 - precision: 0.9658 - recall: 0.9419"
     ]
    },
    {
     "name": "stderr",
     "output_type": "stream",
     "text": [
      "WARNING:absl:You are saving your model as an HDF5 file via `model.save()` or `keras.saving.save_model(model)`. This file format is considered legacy. We recommend using instead the native Keras format, e.g. `model.save('my_model.keras')` or `keras.saving.save_model(model, 'my_model.keras')`. \n"
     ]
    },
    {
     "name": "stdout",
     "output_type": "stream",
     "text": [
      "\u001b[1m20/20\u001b[0m \u001b[32m━━━━━━━━━━━━━━━━━━━━\u001b[0m\u001b[37m\u001b[0m \u001b[1m2s\u001b[0m 94ms/step - accuracy: 0.9554 - auc: 0.9972 - f1_score: 0.9555 - loss: 0.1809 - precision: 0.9659 - recall: 0.9421 - val_accuracy: 0.9533 - val_auc: 0.9973 - val_f1_score: 0.9526 - val_loss: 0.1761 - val_precision: 0.9655 - val_recall: 0.9394\n",
      "Epoch 20/50\n",
      "\u001b[1m19/20\u001b[0m \u001b[32m━━━━━━━━━━━━━━━━━━━\u001b[0m\u001b[37m━\u001b[0m \u001b[1m0s\u001b[0m 84ms/step - accuracy: 0.9560 - auc: 0.9974 - f1_score: 0.9559 - loss: 0.1716 - precision: 0.9663 - recall: 0.9437"
     ]
    },
    {
     "name": "stderr",
     "output_type": "stream",
     "text": [
      "WARNING:absl:You are saving your model as an HDF5 file via `model.save()` or `keras.saving.save_model(model)`. This file format is considered legacy. We recommend using instead the native Keras format, e.g. `model.save('my_model.keras')` or `keras.saving.save_model(model, 'my_model.keras')`. \n"
     ]
    },
    {
     "name": "stdout",
     "output_type": "stream",
     "text": [
      "\u001b[1m20/20\u001b[0m \u001b[32m━━━━━━━━━━━━━━━━━━━━\u001b[0m\u001b[37m\u001b[0m \u001b[1m2s\u001b[0m 92ms/step - accuracy: 0.9558 - auc: 0.9974 - f1_score: 0.9557 - loss: 0.1718 - precision: 0.9661 - recall: 0.9435 - val_accuracy: 0.9653 - val_auc: 0.9979 - val_f1_score: 0.9650 - val_loss: 0.1563 - val_precision: 0.9739 - val_recall: 0.9546\n",
      "Epoch 21/50\n",
      "\u001b[1m19/20\u001b[0m \u001b[32m━━━━━━━━━━━━━━━━━━━\u001b[0m\u001b[37m━\u001b[0m \u001b[1m0s\u001b[0m 85ms/step - accuracy: 0.9566 - auc: 0.9975 - f1_score: 0.9565 - loss: 0.1661 - precision: 0.9660 - recall: 0.9442"
     ]
    },
    {
     "name": "stderr",
     "output_type": "stream",
     "text": [
      "WARNING:absl:You are saving your model as an HDF5 file via `model.save()` or `keras.saving.save_model(model)`. This file format is considered legacy. We recommend using instead the native Keras format, e.g. `model.save('my_model.keras')` or `keras.saving.save_model(model, 'my_model.keras')`. \n"
     ]
    },
    {
     "name": "stdout",
     "output_type": "stream",
     "text": [
      "\u001b[1m20/20\u001b[0m \u001b[32m━━━━━━━━━━━━━━━━━━━━\u001b[0m\u001b[37m\u001b[0m \u001b[1m2s\u001b[0m 92ms/step - accuracy: 0.9568 - auc: 0.9975 - f1_score: 0.9567 - loss: 0.1657 - precision: 0.9661 - recall: 0.9445 - val_accuracy: 0.9620 - val_auc: 0.9981 - val_f1_score: 0.9616 - val_loss: 0.1523 - val_precision: 0.9717 - val_recall: 0.9506\n",
      "Epoch 22/50\n",
      "\u001b[1m19/20\u001b[0m \u001b[32m━━━━━━━━━━━━━━━━━━━\u001b[0m\u001b[37m━\u001b[0m \u001b[1m0s\u001b[0m 86ms/step - accuracy: 0.9646 - auc: 0.9979 - f1_score: 0.9645 - loss: 0.1509 - precision: 0.9724 - recall: 0.9541"
     ]
    },
    {
     "name": "stderr",
     "output_type": "stream",
     "text": [
      "WARNING:absl:You are saving your model as an HDF5 file via `model.save()` or `keras.saving.save_model(model)`. This file format is considered legacy. We recommend using instead the native Keras format, e.g. `model.save('my_model.keras')` or `keras.saving.save_model(model, 'my_model.keras')`. \n"
     ]
    },
    {
     "name": "stdout",
     "output_type": "stream",
     "text": [
      "\u001b[1m20/20\u001b[0m \u001b[32m━━━━━━━━━━━━━━━━━━━━\u001b[0m\u001b[37m\u001b[0m \u001b[1m2s\u001b[0m 93ms/step - accuracy: 0.9648 - auc: 0.9979 - f1_score: 0.9648 - loss: 0.1503 - precision: 0.9726 - recall: 0.9544 - val_accuracy: 0.9706 - val_auc: 0.9985 - val_f1_score: 0.9703 - val_loss: 0.1335 - val_precision: 0.9774 - val_recall: 0.9614\n",
      "Epoch 23/50\n",
      "\u001b[1m20/20\u001b[0m \u001b[32m━━━━━━━━━━━━━━━━━━━━\u001b[0m\u001b[37m\u001b[0m \u001b[1m2s\u001b[0m 91ms/step - accuracy: 0.9700 - auc: 0.9986 - f1_score: 0.9700 - loss: 0.1321 - precision: 0.9767 - recall: 0.9615 - val_accuracy: 0.9532 - val_auc: 0.9979 - val_f1_score: 0.9532 - val_loss: 0.1483 - val_precision: 0.9610 - val_recall: 0.9453\n",
      "Epoch 24/50\n",
      "\u001b[1m19/20\u001b[0m \u001b[32m━━━━━━━━━━━━━━━━━━━\u001b[0m\u001b[37m━\u001b[0m \u001b[1m0s\u001b[0m 84ms/step - accuracy: 0.9474 - auc: 0.9975 - f1_score: 0.9476 - loss: 0.1597 - precision: 0.9557 - recall: 0.9382"
     ]
    },
    {
     "name": "stderr",
     "output_type": "stream",
     "text": [
      "WARNING:absl:You are saving your model as an HDF5 file via `model.save()` or `keras.saving.save_model(model)`. This file format is considered legacy. We recommend using instead the native Keras format, e.g. `model.save('my_model.keras')` or `keras.saving.save_model(model, 'my_model.keras')`. \n"
     ]
    },
    {
     "name": "stdout",
     "output_type": "stream",
     "text": [
      "\u001b[1m20/20\u001b[0m \u001b[32m━━━━━━━━━━━━━━━━━━━━\u001b[0m\u001b[37m\u001b[0m \u001b[1m2s\u001b[0m 92ms/step - accuracy: 0.9470 - auc: 0.9975 - f1_score: 0.9471 - loss: 0.1604 - precision: 0.9553 - recall: 0.9377 - val_accuracy: 0.9680 - val_auc: 0.9987 - val_f1_score: 0.9675 - val_loss: 0.1263 - val_precision: 0.9752 - val_recall: 0.9592\n",
      "Epoch 25/50\n",
      "\u001b[1m19/20\u001b[0m \u001b[32m━━━━━━━━━━━━━━━━━━━\u001b[0m\u001b[37m━\u001b[0m \u001b[1m0s\u001b[0m 87ms/step - accuracy: 0.9662 - auc: 0.9985 - f1_score: 0.9662 - loss: 0.1316 - precision: 0.9724 - recall: 0.9579"
     ]
    },
    {
     "name": "stderr",
     "output_type": "stream",
     "text": [
      "WARNING:absl:You are saving your model as an HDF5 file via `model.save()` or `keras.saving.save_model(model)`. This file format is considered legacy. We recommend using instead the native Keras format, e.g. `model.save('my_model.keras')` or `keras.saving.save_model(model, 'my_model.keras')`. \n"
     ]
    },
    {
     "name": "stdout",
     "output_type": "stream",
     "text": [
      "\u001b[1m20/20\u001b[0m \u001b[32m━━━━━━━━━━━━━━━━━━━━\u001b[0m\u001b[37m\u001b[0m \u001b[1m2s\u001b[0m 95ms/step - accuracy: 0.9666 - auc: 0.9985 - f1_score: 0.9666 - loss: 0.1310 - precision: 0.9728 - recall: 0.9584 - val_accuracy: 0.9703 - val_auc: 0.9987 - val_f1_score: 0.9699 - val_loss: 0.1211 - val_precision: 0.9760 - val_recall: 0.9624\n",
      "Epoch 26/50\n",
      "\u001b[1m19/20\u001b[0m \u001b[32m━━━━━━━━━━━━━━━━━━━\u001b[0m\u001b[37m━\u001b[0m \u001b[1m0s\u001b[0m 85ms/step - accuracy: 0.9721 - auc: 0.9989 - f1_score: 0.9722 - loss: 0.1162 - precision: 0.9775 - recall: 0.9652"
     ]
    },
    {
     "name": "stderr",
     "output_type": "stream",
     "text": [
      "WARNING:absl:You are saving your model as an HDF5 file via `model.save()` or `keras.saving.save_model(model)`. This file format is considered legacy. We recommend using instead the native Keras format, e.g. `model.save('my_model.keras')` or `keras.saving.save_model(model, 'my_model.keras')`. \n"
     ]
    },
    {
     "name": "stdout",
     "output_type": "stream",
     "text": [
      "\u001b[1m20/20\u001b[0m \u001b[32m━━━━━━━━━━━━━━━━━━━━\u001b[0m\u001b[37m\u001b[0m \u001b[1m2s\u001b[0m 93ms/step - accuracy: 0.9723 - auc: 0.9989 - f1_score: 0.9723 - loss: 0.1159 - precision: 0.9776 - recall: 0.9654 - val_accuracy: 0.9732 - val_auc: 0.9988 - val_f1_score: 0.9730 - val_loss: 0.1130 - val_precision: 0.9773 - val_recall: 0.9672\n",
      "Epoch 27/50\n",
      "\u001b[1m19/20\u001b[0m \u001b[32m━━━━━━━━━━━━━━━━━━━\u001b[0m\u001b[37m━\u001b[0m \u001b[1m0s\u001b[0m 84ms/step - accuracy: 0.9774 - auc: 0.9988 - f1_score: 0.9774 - loss: 0.1108 - precision: 0.9810 - recall: 0.9715"
     ]
    },
    {
     "name": "stderr",
     "output_type": "stream",
     "text": [
      "WARNING:absl:You are saving your model as an HDF5 file via `model.save()` or `keras.saving.save_model(model)`. This file format is considered legacy. We recommend using instead the native Keras format, e.g. `model.save('my_model.keras')` or `keras.saving.save_model(model, 'my_model.keras')`. \n"
     ]
    },
    {
     "name": "stdout",
     "output_type": "stream",
     "text": [
      "\u001b[1m20/20\u001b[0m \u001b[32m━━━━━━━━━━━━━━━━━━━━\u001b[0m\u001b[37m\u001b[0m \u001b[1m2s\u001b[0m 92ms/step - accuracy: 0.9774 - auc: 0.9988 - f1_score: 0.9775 - loss: 0.1103 - precision: 0.9811 - recall: 0.9716 - val_accuracy: 0.9760 - val_auc: 0.9990 - val_f1_score: 0.9758 - val_loss: 0.1026 - val_precision: 0.9806 - val_recall: 0.9709\n",
      "Epoch 28/50\n",
      "\u001b[1m20/20\u001b[0m \u001b[32m━━━━━━━━━━━━━━━━━━━━\u001b[0m\u001b[37m\u001b[0m \u001b[1m2s\u001b[0m 91ms/step - accuracy: 0.9792 - auc: 0.9991 - f1_score: 0.9792 - loss: 0.0993 - precision: 0.9831 - recall: 0.9738 - val_accuracy: 0.9627 - val_auc: 0.9987 - val_f1_score: 0.9623 - val_loss: 0.1150 - val_precision: 0.9684 - val_recall: 0.9566\n",
      "Epoch 29/50\n",
      "\u001b[1m19/20\u001b[0m \u001b[32m━━━━━━━━━━━━━━━━━━━\u001b[0m\u001b[37m━\u001b[0m \u001b[1m0s\u001b[0m 86ms/step - accuracy: 0.9769 - auc: 0.9991 - f1_score: 0.9768 - loss: 0.0996 - precision: 0.9818 - recall: 0.9720"
     ]
    },
    {
     "name": "stderr",
     "output_type": "stream",
     "text": [
      "WARNING:absl:You are saving your model as an HDF5 file via `model.save()` or `keras.saving.save_model(model)`. This file format is considered legacy. We recommend using instead the native Keras format, e.g. `model.save('my_model.keras')` or `keras.saving.save_model(model, 'my_model.keras')`. \n"
     ]
    },
    {
     "name": "stdout",
     "output_type": "stream",
     "text": [
      "\u001b[1m20/20\u001b[0m \u001b[32m━━━━━━━━━━━━━━━━━━━━\u001b[0m\u001b[37m\u001b[0m \u001b[1m2s\u001b[0m 94ms/step - accuracy: 0.9769 - auc: 0.9991 - f1_score: 0.9769 - loss: 0.0995 - precision: 0.9818 - recall: 0.9721 - val_accuracy: 0.9823 - val_auc: 0.9992 - val_f1_score: 0.9820 - val_loss: 0.0902 - val_precision: 0.9856 - val_recall: 0.9770\n",
      "Epoch 30/50\n",
      "\u001b[1m20/20\u001b[0m \u001b[32m━━━━━━━━━━━━━━━━━━━━\u001b[0m\u001b[37m\u001b[0m \u001b[1m2s\u001b[0m 91ms/step - accuracy: 0.9786 - auc: 0.9992 - f1_score: 0.9786 - loss: 0.0929 - precision: 0.9824 - recall: 0.9741 - val_accuracy: 0.9745 - val_auc: 0.9990 - val_f1_score: 0.9742 - val_loss: 0.0962 - val_precision: 0.9798 - val_recall: 0.9702\n",
      "Epoch 31/50\n",
      "\u001b[1m20/20\u001b[0m \u001b[32m━━━━━━━━━━━━━━━━━━━━\u001b[0m\u001b[37m\u001b[0m \u001b[1m2s\u001b[0m 92ms/step - accuracy: 0.9809 - auc: 0.9992 - f1_score: 0.9811 - loss: 0.0894 - precision: 0.9839 - recall: 0.9771 - val_accuracy: 0.9691 - val_auc: 0.9989 - val_f1_score: 0.9688 - val_loss: 0.0998 - val_precision: 0.9726 - val_recall: 0.9655\n",
      "Epoch 32/50\n",
      "\u001b[1m19/20\u001b[0m \u001b[32m━━━━━━━━━━━━━━━━━━━\u001b[0m\u001b[37m━\u001b[0m \u001b[1m0s\u001b[0m 86ms/step - accuracy: 0.9779 - auc: 0.9992 - f1_score: 0.9779 - loss: 0.0887 - precision: 0.9813 - recall: 0.9742"
     ]
    },
    {
     "name": "stderr",
     "output_type": "stream",
     "text": [
      "WARNING:absl:You are saving your model as an HDF5 file via `model.save()` or `keras.saving.save_model(model)`. This file format is considered legacy. We recommend using instead the native Keras format, e.g. `model.save('my_model.keras')` or `keras.saving.save_model(model, 'my_model.keras')`. \n"
     ]
    },
    {
     "name": "stdout",
     "output_type": "stream",
     "text": [
      "\u001b[1m20/20\u001b[0m \u001b[32m━━━━━━━━━━━━━━━━━━━━\u001b[0m\u001b[37m\u001b[0m \u001b[1m2s\u001b[0m 93ms/step - accuracy: 0.9781 - auc: 0.9992 - f1_score: 0.9781 - loss: 0.0883 - precision: 0.9814 - recall: 0.9744 - val_accuracy: 0.9819 - val_auc: 0.9994 - val_f1_score: 0.9817 - val_loss: 0.0785 - val_precision: 0.9854 - val_recall: 0.9793\n",
      "Epoch 33/50\n",
      "\u001b[1m19/20\u001b[0m \u001b[32m━━━━━━━━━━━━━━━━━━━\u001b[0m\u001b[37m━\u001b[0m \u001b[1m0s\u001b[0m 87ms/step - accuracy: 0.9854 - auc: 0.9994 - f1_score: 0.9855 - loss: 0.0753 - precision: 0.9873 - recall: 0.9821"
     ]
    },
    {
     "name": "stderr",
     "output_type": "stream",
     "text": [
      "WARNING:absl:You are saving your model as an HDF5 file via `model.save()` or `keras.saving.save_model(model)`. This file format is considered legacy. We recommend using instead the native Keras format, e.g. `model.save('my_model.keras')` or `keras.saving.save_model(model, 'my_model.keras')`. \n"
     ]
    },
    {
     "name": "stdout",
     "output_type": "stream",
     "text": [
      "\u001b[1m20/20\u001b[0m \u001b[32m━━━━━━━━━━━━━━━━━━━━\u001b[0m\u001b[37m\u001b[0m \u001b[1m2s\u001b[0m 94ms/step - accuracy: 0.9854 - auc: 0.9994 - f1_score: 0.9855 - loss: 0.0753 - precision: 0.9874 - recall: 0.9821 - val_accuracy: 0.9820 - val_auc: 0.9994 - val_f1_score: 0.9818 - val_loss: 0.0760 - val_precision: 0.9856 - val_recall: 0.9785\n",
      "Epoch 34/50\n",
      "\u001b[1m20/20\u001b[0m \u001b[32m━━━━━━━━━━━━━━━━━━━━\u001b[0m\u001b[37m\u001b[0m \u001b[1m2s\u001b[0m 90ms/step - accuracy: 0.9823 - auc: 0.9993 - f1_score: 0.9823 - loss: 0.0790 - precision: 0.9856 - recall: 0.9792 - val_accuracy: 0.9809 - val_auc: 0.9993 - val_f1_score: 0.9805 - val_loss: 0.0773 - val_precision: 0.9838 - val_recall: 0.9776\n",
      "Epoch 35/50\n",
      "\u001b[1m19/20\u001b[0m \u001b[32m━━━━━━━━━━━━━━━━━━━\u001b[0m\u001b[37m━\u001b[0m \u001b[1m0s\u001b[0m 85ms/step - accuracy: 0.9843 - auc: 0.9995 - f1_score: 0.9843 - loss: 0.0735 - precision: 0.9869 - recall: 0.9809"
     ]
    },
    {
     "name": "stderr",
     "output_type": "stream",
     "text": [
      "WARNING:absl:You are saving your model as an HDF5 file via `model.save()` or `keras.saving.save_model(model)`. This file format is considered legacy. We recommend using instead the native Keras format, e.g. `model.save('my_model.keras')` or `keras.saving.save_model(model, 'my_model.keras')`. \n"
     ]
    },
    {
     "name": "stdout",
     "output_type": "stream",
     "text": [
      "\u001b[1m20/20\u001b[0m \u001b[32m━━━━━━━━━━━━━━━━━━━━\u001b[0m\u001b[37m\u001b[0m \u001b[1m2s\u001b[0m 92ms/step - accuracy: 0.9844 - auc: 0.9995 - f1_score: 0.9844 - loss: 0.0733 - precision: 0.9870 - recall: 0.9811 - val_accuracy: 0.9798 - val_auc: 0.9993 - val_f1_score: 0.9796 - val_loss: 0.0748 - val_precision: 0.9822 - val_recall: 0.9766\n",
      "Epoch 36/50\n",
      "\u001b[1m20/20\u001b[0m \u001b[32m━━━━━━━━━━━━━━━━━━━━\u001b[0m\u001b[37m\u001b[0m \u001b[1m2s\u001b[0m 93ms/step - accuracy: 0.9863 - auc: 0.9995 - f1_score: 0.9863 - loss: 0.0663 - precision: 0.9885 - recall: 0.9846 - val_accuracy: 0.9794 - val_auc: 0.9993 - val_f1_score: 0.9792 - val_loss: 0.0763 - val_precision: 0.9817 - val_recall: 0.9766\n",
      "Epoch 37/50\n",
      "\u001b[1m20/20\u001b[0m \u001b[32m━━━━━━━━━━━━━━━━━━━━\u001b[0m\u001b[37m\u001b[0m \u001b[1m2s\u001b[0m 92ms/step - accuracy: 0.9831 - auc: 0.9994 - f1_score: 0.9832 - loss: 0.0718 - precision: 0.9854 - recall: 0.9803 - val_accuracy: 0.9771 - val_auc: 0.9994 - val_f1_score: 0.9765 - val_loss: 0.0791 - val_precision: 0.9805 - val_recall: 0.9715\n",
      "Epoch 38/50\n",
      "\u001b[1m19/20\u001b[0m \u001b[32m━━━━━━━━━━━━━━━━━━━\u001b[0m\u001b[37m━\u001b[0m \u001b[1m0s\u001b[0m 87ms/step - accuracy: 0.9850 - auc: 0.9995 - f1_score: 0.9850 - loss: 0.0651 - precision: 0.9869 - recall: 0.9826"
     ]
    },
    {
     "name": "stderr",
     "output_type": "stream",
     "text": [
      "WARNING:absl:You are saving your model as an HDF5 file via `model.save()` or `keras.saving.save_model(model)`. This file format is considered legacy. We recommend using instead the native Keras format, e.g. `model.save('my_model.keras')` or `keras.saving.save_model(model, 'my_model.keras')`. \n"
     ]
    },
    {
     "name": "stdout",
     "output_type": "stream",
     "text": [
      "\u001b[1m20/20\u001b[0m \u001b[32m━━━━━━━━━━━━━━━━━━━━\u001b[0m\u001b[37m\u001b[0m \u001b[1m2s\u001b[0m 95ms/step - accuracy: 0.9853 - auc: 0.9995 - f1_score: 0.9853 - loss: 0.0647 - precision: 0.9872 - recall: 0.9830 - val_accuracy: 0.9896 - val_auc: 0.9996 - val_f1_score: 0.9894 - val_loss: 0.0569 - val_precision: 0.9908 - val_recall: 0.9866\n",
      "Epoch 39/50\n",
      "\u001b[1m20/20\u001b[0m \u001b[32m━━━━━━━━━━━━━━━━━━━━\u001b[0m\u001b[37m\u001b[0m \u001b[1m2s\u001b[0m 93ms/step - accuracy: 0.9887 - auc: 0.9995 - f1_score: 0.9887 - loss: 0.0594 - precision: 0.9901 - recall: 0.9869 - val_accuracy: 0.9787 - val_auc: 0.9995 - val_f1_score: 0.9783 - val_loss: 0.0724 - val_precision: 0.9806 - val_recall: 0.9746\n",
      "Epoch 40/50\n",
      "\u001b[1m20/20\u001b[0m \u001b[32m━━━━━━━━━━━━━━━━━━━━\u001b[0m\u001b[37m\u001b[0m \u001b[1m2s\u001b[0m 91ms/step - accuracy: 0.9719 - auc: 0.9991 - f1_score: 0.9720 - loss: 0.0867 - precision: 0.9745 - recall: 0.9688 - val_accuracy: 0.9202 - val_auc: 0.9957 - val_f1_score: 0.9208 - val_loss: 0.1929 - val_precision: 0.9246 - val_recall: 0.9168\n",
      "Epoch 41/50\n",
      "\u001b[1m20/20\u001b[0m \u001b[32m━━━━━━━━━━━━━━━━━━━━\u001b[0m\u001b[37m\u001b[0m \u001b[1m2s\u001b[0m 92ms/step - accuracy: 0.9542 - auc: 0.9981 - f1_score: 0.9548 - loss: 0.1241 - precision: 0.9581 - recall: 0.9504 - val_accuracy: 0.9860 - val_auc: 0.9997 - val_f1_score: 0.9858 - val_loss: 0.0620 - val_precision: 0.9886 - val_recall: 0.9832\n",
      "Epoch 42/50\n",
      "\u001b[1m19/20\u001b[0m \u001b[32m━━━━━━━━━━━━━━━━━━━\u001b[0m\u001b[37m━\u001b[0m \u001b[1m0s\u001b[0m 84ms/step - accuracy: 0.9857 - auc: 0.9996 - f1_score: 0.9857 - loss: 0.0608 - precision: 0.9871 - recall: 0.9836"
     ]
    },
    {
     "name": "stderr",
     "output_type": "stream",
     "text": [
      "WARNING:absl:You are saving your model as an HDF5 file via `model.save()` or `keras.saving.save_model(model)`. This file format is considered legacy. We recommend using instead the native Keras format, e.g. `model.save('my_model.keras')` or `keras.saving.save_model(model, 'my_model.keras')`. \n"
     ]
    },
    {
     "name": "stdout",
     "output_type": "stream",
     "text": [
      "\u001b[1m20/20\u001b[0m \u001b[32m━━━━━━━━━━━━━━━━━━━━\u001b[0m\u001b[37m\u001b[0m \u001b[1m2s\u001b[0m 92ms/step - accuracy: 0.9859 - auc: 0.9996 - f1_score: 0.9859 - loss: 0.0605 - precision: 0.9873 - recall: 0.9838 - val_accuracy: 0.9896 - val_auc: 0.9997 - val_f1_score: 0.9895 - val_loss: 0.0519 - val_precision: 0.9909 - val_recall: 0.9877\n",
      "Epoch 43/50\n",
      "\u001b[1m19/20\u001b[0m \u001b[32m━━━━━━━━━━━━━━━━━━━\u001b[0m\u001b[37m━\u001b[0m \u001b[1m0s\u001b[0m 86ms/step - accuracy: 0.9905 - auc: 0.9997 - f1_score: 0.9905 - loss: 0.0517 - precision: 0.9917 - recall: 0.9889"
     ]
    },
    {
     "name": "stderr",
     "output_type": "stream",
     "text": [
      "WARNING:absl:You are saving your model as an HDF5 file via `model.save()` or `keras.saving.save_model(model)`. This file format is considered legacy. We recommend using instead the native Keras format, e.g. `model.save('my_model.keras')` or `keras.saving.save_model(model, 'my_model.keras')`. \n"
     ]
    },
    {
     "name": "stdout",
     "output_type": "stream",
     "text": [
      "\u001b[1m20/20\u001b[0m \u001b[32m━━━━━━━━━━━━━━━━━━━━\u001b[0m\u001b[37m\u001b[0m \u001b[1m2s\u001b[0m 93ms/step - accuracy: 0.9906 - auc: 0.9997 - f1_score: 0.9906 - loss: 0.0515 - precision: 0.9918 - recall: 0.9890 - val_accuracy: 0.9902 - val_auc: 0.9998 - val_f1_score: 0.9900 - val_loss: 0.0483 - val_precision: 0.9918 - val_recall: 0.9887\n",
      "Epoch 44/50\n",
      "\u001b[1m19/20\u001b[0m \u001b[32m━━━━━━━━━━━━━━━━━━━\u001b[0m\u001b[37m━\u001b[0m \u001b[1m0s\u001b[0m 85ms/step - accuracy: 0.9920 - auc: 0.9997 - f1_score: 0.9920 - loss: 0.0466 - precision: 0.9928 - recall: 0.9909"
     ]
    },
    {
     "name": "stderr",
     "output_type": "stream",
     "text": [
      "WARNING:absl:You are saving your model as an HDF5 file via `model.save()` or `keras.saving.save_model(model)`. This file format is considered legacy. We recommend using instead the native Keras format, e.g. `model.save('my_model.keras')` or `keras.saving.save_model(model, 'my_model.keras')`. \n"
     ]
    },
    {
     "name": "stdout",
     "output_type": "stream",
     "text": [
      "\u001b[1m20/20\u001b[0m \u001b[32m━━━━━━━━━━━━━━━━━━━━\u001b[0m\u001b[37m\u001b[0m \u001b[1m2s\u001b[0m 92ms/step - accuracy: 0.9919 - auc: 0.9997 - f1_score: 0.9919 - loss: 0.0467 - precision: 0.9927 - recall: 0.9908 - val_accuracy: 0.9926 - val_auc: 0.9998 - val_f1_score: 0.9925 - val_loss: 0.0424 - val_precision: 0.9934 - val_recall: 0.9914\n",
      "Epoch 45/50\n",
      "\u001b[1m20/20\u001b[0m \u001b[32m━━━━━━━━━━━━━━━━━━━━\u001b[0m\u001b[37m\u001b[0m \u001b[1m2s\u001b[0m 92ms/step - accuracy: 0.9939 - auc: 0.9998 - f1_score: 0.9939 - loss: 0.0408 - precision: 0.9946 - recall: 0.9928 - val_accuracy: 0.9909 - val_auc: 0.9998 - val_f1_score: 0.9907 - val_loss: 0.0444 - val_precision: 0.9917 - val_recall: 0.9892\n",
      "Epoch 46/50\n",
      "\u001b[1m19/20\u001b[0m \u001b[32m━━━━━━━━━━━━━━━━━━━\u001b[0m\u001b[37m━\u001b[0m \u001b[1m0s\u001b[0m 88ms/step - accuracy: 0.9931 - auc: 0.9998 - f1_score: 0.9932 - loss: 0.0428 - precision: 0.9940 - recall: 0.9921"
     ]
    },
    {
     "name": "stderr",
     "output_type": "stream",
     "text": [
      "WARNING:absl:You are saving your model as an HDF5 file via `model.save()` or `keras.saving.save_model(model)`. This file format is considered legacy. We recommend using instead the native Keras format, e.g. `model.save('my_model.keras')` or `keras.saving.save_model(model, 'my_model.keras')`. \n"
     ]
    },
    {
     "name": "stdout",
     "output_type": "stream",
     "text": [
      "\u001b[1m20/20\u001b[0m \u001b[32m━━━━━━━━━━━━━━━━━━━━\u001b[0m\u001b[37m\u001b[0m \u001b[1m2s\u001b[0m 96ms/step - accuracy: 0.9932 - auc: 0.9998 - f1_score: 0.9932 - loss: 0.0427 - precision: 0.9941 - recall: 0.9922 - val_accuracy: 0.9933 - val_auc: 0.9998 - val_f1_score: 0.9932 - val_loss: 0.0414 - val_precision: 0.9942 - val_recall: 0.9928\n",
      "Epoch 47/50\n",
      "\u001b[1m19/20\u001b[0m \u001b[32m━━━━━━━━━━━━━━━━━━━\u001b[0m\u001b[37m━\u001b[0m \u001b[1m0s\u001b[0m 87ms/step - accuracy: 0.9942 - auc: 0.9998 - f1_score: 0.9942 - loss: 0.0396 - precision: 0.9949 - recall: 0.9935"
     ]
    },
    {
     "name": "stderr",
     "output_type": "stream",
     "text": [
      "WARNING:absl:You are saving your model as an HDF5 file via `model.save()` or `keras.saving.save_model(model)`. This file format is considered legacy. We recommend using instead the native Keras format, e.g. `model.save('my_model.keras')` or `keras.saving.save_model(model, 'my_model.keras')`. \n"
     ]
    },
    {
     "name": "stdout",
     "output_type": "stream",
     "text": [
      "\u001b[1m20/20\u001b[0m \u001b[32m━━━━━━━━━━━━━━━━━━━━\u001b[0m\u001b[37m\u001b[0m \u001b[1m2s\u001b[0m 94ms/step - accuracy: 0.9942 - auc: 0.9998 - f1_score: 0.9942 - loss: 0.0397 - precision: 0.9948 - recall: 0.9935 - val_accuracy: 0.9952 - val_auc: 0.9999 - val_f1_score: 0.9951 - val_loss: 0.0364 - val_precision: 0.9955 - val_recall: 0.9942\n",
      "Epoch 48/50\n",
      "\u001b[1m19/20\u001b[0m \u001b[32m━━━━━━━━━━━━━━━━━━━\u001b[0m\u001b[37m━\u001b[0m \u001b[1m0s\u001b[0m 87ms/step - accuracy: 0.9933 - auc: 0.9997 - f1_score: 0.9933 - loss: 0.0402 - precision: 0.9941 - recall: 0.9927"
     ]
    },
    {
     "name": "stderr",
     "output_type": "stream",
     "text": [
      "WARNING:absl:You are saving your model as an HDF5 file via `model.save()` or `keras.saving.save_model(model)`. This file format is considered legacy. We recommend using instead the native Keras format, e.g. `model.save('my_model.keras')` or `keras.saving.save_model(model, 'my_model.keras')`. \n"
     ]
    },
    {
     "name": "stdout",
     "output_type": "stream",
     "text": [
      "\u001b[1m20/20\u001b[0m \u001b[32m━━━━━━━━━━━━━━━━━━━━\u001b[0m\u001b[37m\u001b[0m \u001b[1m2s\u001b[0m 94ms/step - accuracy: 0.9934 - auc: 0.9997 - f1_score: 0.9934 - loss: 0.0401 - precision: 0.9941 - recall: 0.9927 - val_accuracy: 0.9944 - val_auc: 0.9999 - val_f1_score: 0.9943 - val_loss: 0.0348 - val_precision: 0.9948 - val_recall: 0.9932\n",
      "Epoch 49/50\n",
      "\u001b[1m20/20\u001b[0m \u001b[32m━━━━━━━━━━━━━━━━━━━━\u001b[0m\u001b[37m\u001b[0m \u001b[1m2s\u001b[0m 91ms/step - accuracy: 0.9948 - auc: 0.9998 - f1_score: 0.9948 - loss: 0.0357 - precision: 0.9956 - recall: 0.9942 - val_accuracy: 0.9941 - val_auc: 0.9999 - val_f1_score: 0.9940 - val_loss: 0.0363 - val_precision: 0.9945 - val_recall: 0.9933\n",
      "Epoch 50/50\n",
      "\u001b[1m19/20\u001b[0m \u001b[32m━━━━━━━━━━━━━━━━━━━\u001b[0m\u001b[37m━\u001b[0m \u001b[1m0s\u001b[0m 85ms/step - accuracy: 0.9953 - auc: 0.9998 - f1_score: 0.9953 - loss: 0.0350 - precision: 0.9958 - recall: 0.9949"
     ]
    },
    {
     "name": "stderr",
     "output_type": "stream",
     "text": [
      "WARNING:absl:You are saving your model as an HDF5 file via `model.save()` or `keras.saving.save_model(model)`. This file format is considered legacy. We recommend using instead the native Keras format, e.g. `model.save('my_model.keras')` or `keras.saving.save_model(model, 'my_model.keras')`. \n"
     ]
    },
    {
     "name": "stdout",
     "output_type": "stream",
     "text": [
      "\u001b[1m20/20\u001b[0m \u001b[32m━━━━━━━━━━━━━━━━━━━━\u001b[0m\u001b[37m\u001b[0m \u001b[1m2s\u001b[0m 94ms/step - accuracy: 0.9954 - auc: 0.9998 - f1_score: 0.9954 - loss: 0.0348 - precision: 0.9958 - recall: 0.9950 - val_accuracy: 0.9944 - val_auc: 0.9999 - val_f1_score: 0.9943 - val_loss: 0.0337 - val_precision: 0.9950 - val_recall: 0.9935\n",
      "<keras.src.callbacks.history.History object at 0x000002306A7E3D30>\n"
     ]
    }
   ],
   "source": [
    "# Model initialization\n",
    "tf_model = MyCNNModel(input_shape=model_input_shape,\n",
    "                      num_classes=num_classes)\n",
    "# Model training\n",
    "training_config = config['model']['training']\n",
    "evaluation_config = config['model']['evaluation']\n",
    "# tf_model.compile(\n",
    "#     optimizer=keras.optimizers.Adam(learning_rate=training_config['learning_rate']),\n",
    "#     loss=training_config['loss'],\n",
    "#     metrics=training_config['metrics'],\n",
    "#     # learning_rate=training_config['learning_rate'],\n",
    "#     # batch_size=training_config['batch_size'],\n",
    "# )\n",
    "\n",
    "# tf_model.fit(\n",
    "#     X_train,\n",
    "#     y_train,\n",
    "#     validation_split=training_config['validation_split'],\n",
    "#     epochs=training_config['epochs'],\n",
    "#     batch_size=training_config['batch_size'],\n",
    "#     callbacks=[\n",
    "#         keras.callbacks.EarlyStopping(\n",
    "#             monitor='val_loss',\n",
    "#             patience=training_config['early_stopping_patience'],\n",
    "#             restore_best_weights=True\n",
    "#         ),\n",
    "#         keras.callbacks.ModelCheckpoint(\n",
    "#             filepath=str(project_root / 'model.h5'),\n",
    "#             save_best_only=True,\n",
    "#             monitor='val_loss'\n",
    "#         )\n",
    "#     ]\n",
    "# )\n",
    "\n",
    "tf_model.compile_model(learning_rate=training_config['learning_rate'],\n",
    "                       loss=training_config['loss'],\n",
    "                       metrics=training_config['metrics'])\n",
    "history = tf_model.train(\n",
    "                        X_train,\n",
    "                        y_train,\n",
    "                        validation_split=training_config['validation_split'],\n",
    "                        epochs=training_config['epochs'],\n",
    "                        batch_size=training_config['batch_size'],\n",
    "                        callbacks=[\n",
    "                            keras.callbacks.EarlyStopping(\n",
    "                                monitor='val_loss',\n",
    "                                patience=training_config['early_stopping_patience'],\n",
    "                                restore_best_weights=True\n",
    "                            ),\n",
    "                            keras.callbacks.ModelCheckpoint(\n",
    "                                filepath=str(project_root / 'model.h5'),\n",
    "                                save_best_only=True,\n",
    "                                monitor='val_loss'\n",
    "                            )\n",
    "                        ]\n",
    "                        )\n",
    "print(history)"
   ]
  },
  {
   "cell_type": "markdown",
   "id": "e3df9f4d",
   "metadata": {},
   "source": [
    "## convert to tensorflow lite"
   ]
  },
  {
   "cell_type": "code",
   "execution_count": 12,
   "id": "993e3a66",
   "metadata": {},
   "outputs": [
    {
     "name": "stdout",
     "output_type": "stream",
     "text": [
      "\u001b[1m562/562\u001b[0m \u001b[32m━━━━━━━━━━━━━━━━━━━━\u001b[0m\u001b[37m\u001b[0m \u001b[1m1s\u001b[0m 2ms/step - accuracy: 0.9959 - auc: 0.9998 - f1_score: 0.9959 - loss: 0.0350 - precision: 0.9967 - recall: 0.9956\n",
      "[0.03541061282157898, 0.995326817035675, 0.9960452318191528, 0.9948261380195618, <tf.Tensor: shape=(6,), dtype=float32, numpy=\n",
      "array([0.99449164, 0.99864036, 0.99284315, 0.9994994 , 0.9903515 ,\n",
      "       0.99639106], dtype=float32)>, 0.999830961227417]\n",
      "INFO:tensorflow:Assets written to: saved_model_dir\\assets\n"
     ]
    },
    {
     "name": "stderr",
     "output_type": "stream",
     "text": [
      "INFO:tensorflow:Assets written to: saved_model_dir\\assets\n"
     ]
    },
    {
     "name": "stdout",
     "output_type": "stream",
     "text": [
      "Saved artifact at 'saved_model_dir'. The following endpoints are available:\n",
      "\n",
      "* Endpoint 'serve'\n",
      "  args_0 (POSITIONAL_ONLY): TensorSpec(shape=(None, 128, 7), dtype=tf.float32, name=None)\n",
      "Output Type:\n",
      "  TensorSpec(shape=(None, 6), dtype=tf.float32, name=None)\n",
      "Captures:\n",
      "  2406968851296: TensorSpec(shape=(), dtype=tf.resource, name=None)\n",
      "  2406968850768: TensorSpec(shape=(), dtype=tf.resource, name=None)\n",
      "  2406968851472: TensorSpec(shape=(), dtype=tf.resource, name=None)\n",
      "  2406981071120: TensorSpec(shape=(), dtype=tf.resource, name=None)\n",
      "  2406968845840: TensorSpec(shape=(), dtype=tf.resource, name=None)\n",
      "  2406981067072: TensorSpec(shape=(), dtype=tf.resource, name=None)\n",
      "  2406981068480: TensorSpec(shape=(), dtype=tf.resource, name=None)\n",
      "  2406981071824: TensorSpec(shape=(), dtype=tf.resource, name=None)\n",
      "TFLite model is saved as: model.tflite\n"
     ]
    }
   ],
   "source": [
    "import tensorflow as tf\n",
    "# evaluate the model\n",
    "history = tf_model.evaluate(X_test, y_test)\n",
    "print(history)\n",
    "\n",
    "# Save the model as SavedModel format\n",
    "tf_model.export('saved_model_dir', save_format='tf')\n",
    "\n",
    "# Convert to TFLite model\n",
    "converter = tf.lite.TFLiteConverter.from_saved_model('saved_model_dir')\n",
    "converter.optimizations = [tf.lite.Optimize.DEFAULT]\n",
    "\n",
    "def representative_data_gen():\n",
    "    for input_value in tf.data.Dataset.from_tensor_slices(X_test).batch(1).take(100):\n",
    "        yield [tf.cast(input_value, tf.float32)]\n",
    "\n",
    "# Optional: Provide a representative dataset to enable full integer quantization (better for STM32)\n",
    "converter.representative_dataset = representative_data_gen\n",
    "converter.target_spec.supported_ops = [tf.lite.OpsSet.TFLITE_BUILTINS_INT8]\n",
    "converter.inference_input_type = tf.int8\n",
    "converter.inference_output_type = tf.int8\n",
    "\n",
    "tflite_model = converter.convert()\n",
    "\n",
    "# Save as .tflite file\n",
    "with open('model.tflite', 'wb') as f:\n",
    "    f.write(tflite_model)\n",
    "\n",
    "print(\"TFLite model is saved as: model.tflite\")\n",
    "\n"
   ]
  },
  {
   "cell_type": "markdown",
   "id": "7915e9a6",
   "metadata": {},
   "source": [
    "### record quantization parameters"
   ]
  },
  {
   "cell_type": "code",
   "execution_count": 14,
   "id": "1f3305e3",
   "metadata": {},
   "outputs": [
    {
     "name": "stdout",
     "output_type": "stream",
     "text": [
      "Input quantization params:\n",
      " scale: 0.003921568859368563\n",
      " zero_point: -128\n",
      "Output quantization params:\n",
      " scale: 0.00390625\n",
      " zero_point: -128\n",
      "Quantization parameters are saved as: quantization_params.yaml\n"
     ]
    }
   ],
   "source": [
    "\n",
    "# load the TFLite model and print input/output quantization parameters\n",
    "interpreter = tf.lite.Interpreter(model_path='model.tflite')\n",
    "interpreter.allocate_tensors()\n",
    "\n",
    "input_details = interpreter.get_input_details()\n",
    "output_details = interpreter.get_output_details()\n",
    "\n",
    "# Print input quantization parameters\n",
    "print(\"Input quantization params:\")\n",
    "print(\" scale:\", input_details[0]['quantization'][0])\n",
    "print(\" zero_point:\", input_details[0]['quantization'][1])\n",
    "\n",
    "# Print output quantization parameters\n",
    "print(\"Output quantization params:\")\n",
    "print(\" scale:\", output_details[0]['quantization'][0])\n",
    "print(\" zero_point:\", output_details[0]['quantization'][1])\n",
    "\n",
    "# write the quantization to yaml file\n",
    "quantization_params = {\n",
    "    'input_scale': input_details[0]['quantization'][0],\n",
    "    'input_zero_point': input_details[0]['quantization'][1],\n",
    "    'output_scale': output_details[0]['quantization'][0],\n",
    "    'output_zero_point': output_details[0]['quantization'][1]\n",
    "}\n",
    "with open('quantization_params.yaml', 'w') as f:\n",
    "    yaml.dump(quantization_params, f)\n",
    "print(\"Quantization parameters are saved as: quantization_params.yaml\")\n"
   ]
  },
  {
   "cell_type": "markdown",
   "id": "43ed102e",
   "metadata": {},
   "source": [
    "## test model"
   ]
  },
  {
   "cell_type": "code",
   "execution_count": 28,
   "id": "0ee915de",
   "metadata": {},
   "outputs": [
    {
     "ename": "TypeError",
     "evalue": "Unable to revive model from config. When overriding the `get_config()` method, make sure that the returned config contains all items used as arguments in the  constructor to <class 'model.MyCNNModel'>, which is the default behavior. You can override this default behavior by defining a `from_config(cls, config)` class method to specify how to create an instance of MyCNNModel from its config.\n\nReceived config={'trainable': True, 'dtype': {'module': 'keras', 'class_name': 'DTypePolicy', 'config': {'name': 'float32'}, 'registered_name': None}}\n\nError encountered during deserialization: MyCNNModel.__init__() got an unexpected keyword argument 'trainable'",
     "output_type": "error",
     "traceback": [
      "\u001b[1;31m---------------------------------------------------------------------------\u001b[0m",
      "\u001b[1;31mTypeError\u001b[0m                                 Traceback (most recent call last)",
      "File \u001b[1;32mc:\\.venv\\EdgeAI\\lib\\site-packages\\keras\\src\\models\\model.py:599\u001b[0m, in \u001b[0;36mModel.from_config\u001b[1;34m(cls, config, custom_objects)\u001b[0m\n\u001b[0;32m    598\u001b[0m \u001b[38;5;28;01mtry\u001b[39;00m:\n\u001b[1;32m--> 599\u001b[0m     \u001b[38;5;28;01mreturn\u001b[39;00m \u001b[38;5;28mcls\u001b[39m(\u001b[38;5;241m*\u001b[39m\u001b[38;5;241m*\u001b[39mconfig)\n\u001b[0;32m    600\u001b[0m \u001b[38;5;28;01mexcept\u001b[39;00m \u001b[38;5;167;01mTypeError\u001b[39;00m \u001b[38;5;28;01mas\u001b[39;00m e:\n",
      "\u001b[1;31mTypeError\u001b[0m: MyCNNModel.__init__() got an unexpected keyword argument 'trainable'",
      "\nDuring handling of the above exception, another exception occurred:\n",
      "\u001b[1;31mTypeError\u001b[0m                                 Traceback (most recent call last)",
      "Cell \u001b[1;32mIn[28], line 4\u001b[0m\n\u001b[0;32m      1\u001b[0m \u001b[38;5;28;01mfrom\u001b[39;00m\u001b[38;5;250m \u001b[39m\u001b[38;5;21;01mkeras\u001b[39;00m\u001b[38;5;21;01m.\u001b[39;00m\u001b[38;5;21;01mutils\u001b[39;00m\u001b[38;5;250m \u001b[39m\u001b[38;5;28;01mimport\u001b[39;00m custom_object_scope\n\u001b[0;32m      3\u001b[0m \u001b[38;5;28;01mwith\u001b[39;00m custom_object_scope({\u001b[38;5;124m'\u001b[39m\u001b[38;5;124mMyCNNModel\u001b[39m\u001b[38;5;124m'\u001b[39m: MyCNNModel}):\n\u001b[1;32m----> 4\u001b[0m     model_test \u001b[38;5;241m=\u001b[39m \u001b[43mkeras\u001b[49m\u001b[38;5;241;43m.\u001b[39;49m\u001b[43mmodels\u001b[49m\u001b[38;5;241;43m.\u001b[39;49m\u001b[43mload_model\u001b[49m\u001b[43m(\u001b[49m\u001b[43mproject_root\u001b[49m\u001b[43m \u001b[49m\u001b[38;5;241;43m/\u001b[39;49m\u001b[43m \u001b[49m\u001b[38;5;124;43m'\u001b[39;49m\u001b[38;5;124;43mmodel.h5\u001b[39;49m\u001b[38;5;124;43m'\u001b[39;49m\u001b[43m)\u001b[49m\n\u001b[0;32m      5\u001b[0m \u001b[38;5;66;03m# Model evaluation\u001b[39;00m\n\u001b[0;32m      6\u001b[0m results \u001b[38;5;241m=\u001b[39m model_test\u001b[38;5;241m.\u001b[39mevaluate(X_test, y_test, batch_size\u001b[38;5;241m=\u001b[39m\u001b[38;5;241m32\u001b[39m)\n",
      "File \u001b[1;32mc:\\.venv\\EdgeAI\\lib\\site-packages\\keras\\src\\saving\\saving_api.py:196\u001b[0m, in \u001b[0;36mload_model\u001b[1;34m(filepath, custom_objects, compile, safe_mode)\u001b[0m\n\u001b[0;32m    189\u001b[0m     \u001b[38;5;28;01mreturn\u001b[39;00m saving_lib\u001b[38;5;241m.\u001b[39mload_model(\n\u001b[0;32m    190\u001b[0m         filepath,\n\u001b[0;32m    191\u001b[0m         custom_objects\u001b[38;5;241m=\u001b[39mcustom_objects,\n\u001b[0;32m    192\u001b[0m         \u001b[38;5;28mcompile\u001b[39m\u001b[38;5;241m=\u001b[39m\u001b[38;5;28mcompile\u001b[39m,\n\u001b[0;32m    193\u001b[0m         safe_mode\u001b[38;5;241m=\u001b[39msafe_mode,\n\u001b[0;32m    194\u001b[0m     )\n\u001b[0;32m    195\u001b[0m \u001b[38;5;28;01mif\u001b[39;00m \u001b[38;5;28mstr\u001b[39m(filepath)\u001b[38;5;241m.\u001b[39mendswith((\u001b[38;5;124m\"\u001b[39m\u001b[38;5;124m.h5\u001b[39m\u001b[38;5;124m\"\u001b[39m, \u001b[38;5;124m\"\u001b[39m\u001b[38;5;124m.hdf5\u001b[39m\u001b[38;5;124m\"\u001b[39m)):\n\u001b[1;32m--> 196\u001b[0m     \u001b[38;5;28;01mreturn\u001b[39;00m \u001b[43mlegacy_h5_format\u001b[49m\u001b[38;5;241;43m.\u001b[39;49m\u001b[43mload_model_from_hdf5\u001b[49m\u001b[43m(\u001b[49m\n\u001b[0;32m    197\u001b[0m \u001b[43m        \u001b[49m\u001b[43mfilepath\u001b[49m\u001b[43m,\u001b[49m\u001b[43m \u001b[49m\u001b[43mcustom_objects\u001b[49m\u001b[38;5;241;43m=\u001b[39;49m\u001b[43mcustom_objects\u001b[49m\u001b[43m,\u001b[49m\u001b[43m \u001b[49m\u001b[38;5;28;43mcompile\u001b[39;49m\u001b[38;5;241;43m=\u001b[39;49m\u001b[38;5;28;43mcompile\u001b[39;49m\n\u001b[0;32m    198\u001b[0m \u001b[43m    \u001b[49m\u001b[43m)\u001b[49m\n\u001b[0;32m    199\u001b[0m \u001b[38;5;28;01melif\u001b[39;00m \u001b[38;5;28mstr\u001b[39m(filepath)\u001b[38;5;241m.\u001b[39mendswith(\u001b[38;5;124m\"\u001b[39m\u001b[38;5;124m.keras\u001b[39m\u001b[38;5;124m\"\u001b[39m):\n\u001b[0;32m    200\u001b[0m     \u001b[38;5;28;01mraise\u001b[39;00m \u001b[38;5;167;01mValueError\u001b[39;00m(\n\u001b[0;32m    201\u001b[0m         \u001b[38;5;124mf\u001b[39m\u001b[38;5;124m\"\u001b[39m\u001b[38;5;124mFile not found: filepath=\u001b[39m\u001b[38;5;132;01m{\u001b[39;00mfilepath\u001b[38;5;132;01m}\u001b[39;00m\u001b[38;5;124m. \u001b[39m\u001b[38;5;124m\"\u001b[39m\n\u001b[0;32m    202\u001b[0m         \u001b[38;5;124m\"\u001b[39m\u001b[38;5;124mPlease ensure the file is an accessible `.keras` \u001b[39m\u001b[38;5;124m\"\u001b[39m\n\u001b[0;32m    203\u001b[0m         \u001b[38;5;124m\"\u001b[39m\u001b[38;5;124mzip file.\u001b[39m\u001b[38;5;124m\"\u001b[39m\n\u001b[0;32m    204\u001b[0m     )\n",
      "File \u001b[1;32mc:\\.venv\\EdgeAI\\lib\\site-packages\\keras\\src\\legacy\\saving\\legacy_h5_format.py:133\u001b[0m, in \u001b[0;36mload_model_from_hdf5\u001b[1;34m(filepath, custom_objects, compile)\u001b[0m\n\u001b[0;32m    130\u001b[0m model_config \u001b[38;5;241m=\u001b[39m json_utils\u001b[38;5;241m.\u001b[39mdecode(model_config)\n\u001b[0;32m    132\u001b[0m \u001b[38;5;28;01mwith\u001b[39;00m saving_options\u001b[38;5;241m.\u001b[39mkeras_option_scope(use_legacy_config\u001b[38;5;241m=\u001b[39m\u001b[38;5;28;01mTrue\u001b[39;00m):\n\u001b[1;32m--> 133\u001b[0m     model \u001b[38;5;241m=\u001b[39m \u001b[43msaving_utils\u001b[49m\u001b[38;5;241;43m.\u001b[39;49m\u001b[43mmodel_from_config\u001b[49m\u001b[43m(\u001b[49m\n\u001b[0;32m    134\u001b[0m \u001b[43m        \u001b[49m\u001b[43mmodel_config\u001b[49m\u001b[43m,\u001b[49m\u001b[43m \u001b[49m\u001b[43mcustom_objects\u001b[49m\u001b[38;5;241;43m=\u001b[39;49m\u001b[43mcustom_objects\u001b[49m\n\u001b[0;32m    135\u001b[0m \u001b[43m    \u001b[49m\u001b[43m)\u001b[49m\n\u001b[0;32m    137\u001b[0m     \u001b[38;5;66;03m# set weights\u001b[39;00m\n\u001b[0;32m    138\u001b[0m     load_weights_from_hdf5_group(f[\u001b[38;5;124m\"\u001b[39m\u001b[38;5;124mmodel_weights\u001b[39m\u001b[38;5;124m\"\u001b[39m], model)\n",
      "File \u001b[1;32mc:\\.venv\\EdgeAI\\lib\\site-packages\\keras\\src\\legacy\\saving\\saving_utils.py:88\u001b[0m, in \u001b[0;36mmodel_from_config\u001b[1;34m(config, custom_objects)\u001b[0m\n\u001b[0;32m     84\u001b[0m \u001b[38;5;66;03m# TODO(nkovela): Swap find and replace args during Keras 3.0 release\u001b[39;00m\n\u001b[0;32m     85\u001b[0m \u001b[38;5;66;03m# Replace keras refs with keras\u001b[39;00m\n\u001b[0;32m     86\u001b[0m config \u001b[38;5;241m=\u001b[39m _find_replace_nested_dict(config, \u001b[38;5;124m\"\u001b[39m\u001b[38;5;124mkeras.\u001b[39m\u001b[38;5;124m\"\u001b[39m, \u001b[38;5;124m\"\u001b[39m\u001b[38;5;124mkeras.\u001b[39m\u001b[38;5;124m\"\u001b[39m)\n\u001b[1;32m---> 88\u001b[0m \u001b[38;5;28;01mreturn\u001b[39;00m \u001b[43mserialization\u001b[49m\u001b[38;5;241;43m.\u001b[39;49m\u001b[43mdeserialize_keras_object\u001b[49m\u001b[43m(\u001b[49m\n\u001b[0;32m     89\u001b[0m \u001b[43m    \u001b[49m\u001b[43mconfig\u001b[49m\u001b[43m,\u001b[49m\n\u001b[0;32m     90\u001b[0m \u001b[43m    \u001b[49m\u001b[43mmodule_objects\u001b[49m\u001b[38;5;241;43m=\u001b[39;49m\u001b[43mMODULE_OBJECTS\u001b[49m\u001b[38;5;241;43m.\u001b[39;49m\u001b[43mALL_OBJECTS\u001b[49m\u001b[43m,\u001b[49m\n\u001b[0;32m     91\u001b[0m \u001b[43m    \u001b[49m\u001b[43mcustom_objects\u001b[49m\u001b[38;5;241;43m=\u001b[39;49m\u001b[43mcustom_objects\u001b[49m\u001b[43m,\u001b[49m\n\u001b[0;32m     92\u001b[0m \u001b[43m    \u001b[49m\u001b[43mprintable_module_name\u001b[49m\u001b[38;5;241;43m=\u001b[39;49m\u001b[38;5;124;43m\"\u001b[39;49m\u001b[38;5;124;43mlayer\u001b[39;49m\u001b[38;5;124;43m\"\u001b[39;49m\u001b[43m,\u001b[49m\n\u001b[0;32m     93\u001b[0m \u001b[43m\u001b[49m\u001b[43m)\u001b[49m\n",
      "File \u001b[1;32mc:\\.venv\\EdgeAI\\lib\\site-packages\\keras\\src\\legacy\\saving\\serialization.py:495\u001b[0m, in \u001b[0;36mdeserialize_keras_object\u001b[1;34m(identifier, module_objects, custom_objects, printable_module_name)\u001b[0m\n\u001b[0;32m    490\u001b[0m cls_config \u001b[38;5;241m=\u001b[39m _find_replace_nested_dict(\n\u001b[0;32m    491\u001b[0m     cls_config, \u001b[38;5;124m\"\u001b[39m\u001b[38;5;124mkeras.\u001b[39m\u001b[38;5;124m\"\u001b[39m, \u001b[38;5;124m\"\u001b[39m\u001b[38;5;124mkeras.\u001b[39m\u001b[38;5;124m\"\u001b[39m\n\u001b[0;32m    492\u001b[0m )\n\u001b[0;32m    494\u001b[0m \u001b[38;5;28;01mif\u001b[39;00m \u001b[38;5;124m\"\u001b[39m\u001b[38;5;124mcustom_objects\u001b[39m\u001b[38;5;124m\"\u001b[39m \u001b[38;5;129;01min\u001b[39;00m arg_spec\u001b[38;5;241m.\u001b[39margs:\n\u001b[1;32m--> 495\u001b[0m     deserialized_obj \u001b[38;5;241m=\u001b[39m \u001b[38;5;28;43mcls\u001b[39;49m\u001b[38;5;241;43m.\u001b[39;49m\u001b[43mfrom_config\u001b[49m\u001b[43m(\u001b[49m\n\u001b[0;32m    496\u001b[0m \u001b[43m        \u001b[49m\u001b[43mcls_config\u001b[49m\u001b[43m,\u001b[49m\n\u001b[0;32m    497\u001b[0m \u001b[43m        \u001b[49m\u001b[43mcustom_objects\u001b[49m\u001b[38;5;241;43m=\u001b[39;49m\u001b[43m{\u001b[49m\n\u001b[0;32m    498\u001b[0m \u001b[43m            \u001b[49m\u001b[38;5;241;43m*\u001b[39;49m\u001b[38;5;241;43m*\u001b[39;49m\u001b[43mobject_registration\u001b[49m\u001b[38;5;241;43m.\u001b[39;49m\u001b[43mGLOBAL_CUSTOM_OBJECTS\u001b[49m\u001b[43m,\u001b[49m\n\u001b[0;32m    499\u001b[0m \u001b[43m            \u001b[49m\u001b[38;5;241;43m*\u001b[39;49m\u001b[38;5;241;43m*\u001b[39;49m\u001b[43mcustom_objects\u001b[49m\u001b[43m,\u001b[49m\n\u001b[0;32m    500\u001b[0m \u001b[43m        \u001b[49m\u001b[43m}\u001b[49m\u001b[43m,\u001b[49m\n\u001b[0;32m    501\u001b[0m \u001b[43m    \u001b[49m\u001b[43m)\u001b[49m\n\u001b[0;32m    502\u001b[0m \u001b[38;5;28;01melse\u001b[39;00m:\n\u001b[0;32m    503\u001b[0m     \u001b[38;5;28;01mwith\u001b[39;00m object_registration\u001b[38;5;241m.\u001b[39mCustomObjectScope(custom_objects):\n",
      "File \u001b[1;32mc:\\.venv\\EdgeAI\\lib\\site-packages\\keras\\src\\models\\model.py:601\u001b[0m, in \u001b[0;36mModel.from_config\u001b[1;34m(cls, config, custom_objects)\u001b[0m\n\u001b[0;32m    599\u001b[0m     \u001b[38;5;28;01mreturn\u001b[39;00m \u001b[38;5;28mcls\u001b[39m(\u001b[38;5;241m*\u001b[39m\u001b[38;5;241m*\u001b[39mconfig)\n\u001b[0;32m    600\u001b[0m \u001b[38;5;28;01mexcept\u001b[39;00m \u001b[38;5;167;01mTypeError\u001b[39;00m \u001b[38;5;28;01mas\u001b[39;00m e:\n\u001b[1;32m--> 601\u001b[0m     \u001b[38;5;28;01mraise\u001b[39;00m \u001b[38;5;167;01mTypeError\u001b[39;00m(\n\u001b[0;32m    602\u001b[0m         \u001b[38;5;124m\"\u001b[39m\u001b[38;5;124mUnable to revive model from config. When overriding \u001b[39m\u001b[38;5;124m\"\u001b[39m\n\u001b[0;32m    603\u001b[0m         \u001b[38;5;124m\"\u001b[39m\u001b[38;5;124mthe `get_config()` method, make sure that the \u001b[39m\u001b[38;5;124m\"\u001b[39m\n\u001b[0;32m    604\u001b[0m         \u001b[38;5;124m\"\u001b[39m\u001b[38;5;124mreturned config contains all items used as arguments \u001b[39m\u001b[38;5;124m\"\u001b[39m\n\u001b[0;32m    605\u001b[0m         \u001b[38;5;124mf\u001b[39m\u001b[38;5;124m\"\u001b[39m\u001b[38;5;124min the  constructor to \u001b[39m\u001b[38;5;132;01m{\u001b[39;00m\u001b[38;5;28mcls\u001b[39m\u001b[38;5;132;01m}\u001b[39;00m\u001b[38;5;124m, \u001b[39m\u001b[38;5;124m\"\u001b[39m\n\u001b[0;32m    606\u001b[0m         \u001b[38;5;124m\"\u001b[39m\u001b[38;5;124mwhich is the default behavior. \u001b[39m\u001b[38;5;124m\"\u001b[39m\n\u001b[0;32m    607\u001b[0m         \u001b[38;5;124m\"\u001b[39m\u001b[38;5;124mYou can override this default behavior by defining a \u001b[39m\u001b[38;5;124m\"\u001b[39m\n\u001b[0;32m    608\u001b[0m         \u001b[38;5;124m\"\u001b[39m\u001b[38;5;124m`from_config(cls, config)` class method to specify \u001b[39m\u001b[38;5;124m\"\u001b[39m\n\u001b[0;32m    609\u001b[0m         \u001b[38;5;124m\"\u001b[39m\u001b[38;5;124mhow to create an \u001b[39m\u001b[38;5;124m\"\u001b[39m\n\u001b[0;32m    610\u001b[0m         \u001b[38;5;124mf\u001b[39m\u001b[38;5;124m\"\u001b[39m\u001b[38;5;124minstance of \u001b[39m\u001b[38;5;132;01m{\u001b[39;00m\u001b[38;5;28mcls\u001b[39m\u001b[38;5;241m.\u001b[39m\u001b[38;5;18m__name__\u001b[39m\u001b[38;5;132;01m}\u001b[39;00m\u001b[38;5;124m from its config.\u001b[39m\u001b[38;5;130;01m\\n\u001b[39;00m\u001b[38;5;130;01m\\n\u001b[39;00m\u001b[38;5;124m\"\u001b[39m\n\u001b[0;32m    611\u001b[0m         \u001b[38;5;124mf\u001b[39m\u001b[38;5;124m\"\u001b[39m\u001b[38;5;124mReceived config=\u001b[39m\u001b[38;5;132;01m{\u001b[39;00mconfig\u001b[38;5;132;01m}\u001b[39;00m\u001b[38;5;130;01m\\n\u001b[39;00m\u001b[38;5;130;01m\\n\u001b[39;00m\u001b[38;5;124m\"\u001b[39m\n\u001b[0;32m    612\u001b[0m         \u001b[38;5;124mf\u001b[39m\u001b[38;5;124m\"\u001b[39m\u001b[38;5;124mError encountered during deserialization: \u001b[39m\u001b[38;5;132;01m{\u001b[39;00me\u001b[38;5;132;01m}\u001b[39;00m\u001b[38;5;124m\"\u001b[39m\n\u001b[0;32m    613\u001b[0m     )\n",
      "\u001b[1;31mTypeError\u001b[0m: Unable to revive model from config. When overriding the `get_config()` method, make sure that the returned config contains all items used as arguments in the  constructor to <class 'model.MyCNNModel'>, which is the default behavior. You can override this default behavior by defining a `from_config(cls, config)` class method to specify how to create an instance of MyCNNModel from its config.\n\nReceived config={'trainable': True, 'dtype': {'module': 'keras', 'class_name': 'DTypePolicy', 'config': {'name': 'float32'}, 'registered_name': None}}\n\nError encountered during deserialization: MyCNNModel.__init__() got an unexpected keyword argument 'trainable'"
     ]
    }
   ],
   "source": [
    "from keras.utils import custom_object_scope\n",
    "\n",
    "with custom_object_scope({'MyCNNModel': MyCNNModel}):\n",
    "    model_test = keras.models.load_model(project_root / 'model.h5')\n",
    "# Model evaluation\n",
    "results = model_test.evaluate(X_test, y_test, batch_size=32)\n",
    "print(f\"Test loss: {results[0]}\")\n",
    "for name, value in zip(model_test.metrics_names, results):\n",
    "    print(f\"{name}: {value}\")"
   ]
  }
 ],
 "metadata": {
  "kernelspec": {
   "display_name": "EdgeAI",
   "language": "python",
   "name": "python3"
  },
  "language_info": {
   "codemirror_mode": {
    "name": "ipython",
    "version": 3
   },
   "file_extension": ".py",
   "mimetype": "text/x-python",
   "name": "python",
   "nbconvert_exporter": "python",
   "pygments_lexer": "ipython3",
   "version": "3.10.0"
  }
 },
 "nbformat": 4,
 "nbformat_minor": 5
}
