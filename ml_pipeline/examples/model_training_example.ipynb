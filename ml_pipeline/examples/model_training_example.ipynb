{
 "cells": [
  {
   "cell_type": "markdown",
   "metadata": {},
   "source": [
    "# 时间序列分类模型训练示例\n",
    "\n",
    "本笔记本展示如何使用ML Pipeline训练时间序列分类模型，包括：\n",
    "1. 数据加载和预处理\n",
    "2. 模型配置和创建\n",
    "3. 模型训练\n",
    "4. 性能评估\n",
    "5. 模型保存和转换"
   ]
  },
  {
   "cell_type": "markdown",
   "metadata": {},
   "source": [
    "## 1. 设置环境\n",
    "\n",
    "首先，我们需要导入必要的库并设置路径。"
   ]
  },
  {
   "cell_type": "code",
   "execution_count": null,
   "metadata": {},
   "outputs": [],
   "source": [
    "import os\n",
    "import sys\n",
    "import numpy as np\n",
    "import pandas as pd\n",
    "import matplotlib.pyplot as plt\n",
    "import seaborn as sns\n",
    "import tensorflow as tf\n",
    "from sklearn.model_selection import train_test_split\n",
    "\n",
    "# 添加父目录到路径\n",
    "sys.path.append(os.path.dirname(os.path.dirname(os.path.abspath('.'))))\n",
    "\n",
    "# 导入ML Pipeline模块\n",
    "from ml_pipeline.models.model import (\n",
    "    create_model, save_model_with_metadata, get_learning_rate_scheduler\n",
    ")\n",
    "from ml_pipeline.data_processing.data_processing import load_dataset\n",
    "from ml_pipeline.data_processing.config_utils import load_config\n",
    "\n",
    "# 设置绘图样式\n",
    "sns.set_style('whitegrid')\n",
    "plt.rcParams['figure.figsize'] = (12, 6)\n",
    "\n",
    "# 设置随机种子\n",
    "RANDOM_SEED = 42\n",
    "np.random.seed(RANDOM_SEED)\n",
    "tf.random.set_seed(RANDOM_SEED)"
   ]
  },
  {
   "cell_type": "markdown",
   "metadata": {},
   "source": [
    "## 2. 加载和准备数据\n",
    "\n",
    "加载之前处理好的数据，并划分训练集、验证集和测试集。"
   ]
  },
  {
   "cell_type": "code",
   "execution_count": null,
   "metadata": {},
   "outputs": [],
   "source": [
    "# 加载处理好的数据\n",
    "data_path = 'processed_data.npz'\n",
    "windows, labels, scaler = load_dataset(data_path)\n",
    "\n",
    "print(f\"数据形状:\")\n",
    "print(f\"窗口: {windows.shape}\")\n",
    "print(f\"标签: {labels.shape}\")\n",
    "\n",
    "# 查看标签分布\n",
    "unique, counts = np.unique(labels, return_counts=True)\n",
    "print(\"\\n标签分布:\")\n",
    "for u, c in zip(unique, counts):\n",
    "    print(f\"  类别 {int(u)} ({['静止', '走路', '跑步'][int(u)]}): {c} 个样本 ({c/len(labels)*100:.1f}%)\")\n",
    "\n",
    "# 划分训练集和测试集\n",
    "x_train, x_test, y_train, y_test = train_test_split(\n",
    "    windows, labels,\n",
    "    test_size=0.2,\n",
    "    random_state=RANDOM_SEED,\n",
    "    stratify=labels\n",
    ")\n",
    "\n",
    "# 从训练集中划分验证集\n",
    "x_train, x_val, y_train, y_val = train_test_split(\n",
    "    x_train, y_train,\n",
    "    test_size=0.2,\n",
    "    random_state=RANDOM_SEED,\n",
    "    stratify=y_train\n",
    ")\n",
    "\n",
    "print(\"\\n数据集大小:\")\n",
    "print(f\"训练集: {x_train.shape[0]} 个样本\")\n",
    "print(f\"验证集: {x_val.shape[0]} 个样本\")\n",
    "print(f\"测试集: {x_test.shape[0]} 个样本\")"
   ]
  },
  {
   "cell_type": "markdown",
   "metadata": {},
   "source": [
    "## 3. 配置模型\n",
    "\n",
    "设置模型架构和训练参数。"
   ]
  },
  {
   "cell_type": "code",
   "execution_count": null,
   "metadata": {},
   "outputs": [],
   "source": [
    "# 加载模型配置\n",
    "model_config = {\n",
    "    'model': {\n",
    "        'architecture': 'lstm',  # 'lstm', 'cnn', 或 'hybrid'\n",
    "        'layer_sizes': [64, 32],\n",
    "        'dropout_rate': 0.3,\n",
    "        'activation': 'tanh',\n",
    "        'use_batch_norm': True,\n",
    "        'cnn': {\n",
    "            'filters': [64, 128],\n",
    "            'kernel_size': 3,\n",
    "            'pool_size': 2\n",
    "        }\n",
    "    },\n",
    "    'training': {\n",
    "        'batch_size': 32,\n",
    "        'epochs': 50,\n",
    "        'learning_rate': 0.001,\n",
    "        'optimizer': 'adam',\n",
    "        'early_stopping_patience': 10,\n",
    "        'use_class_weights': True,\n",
    "        'lr_scheduler': {\n",
    "            'type': 'reduce_on_plateau',\n",
    "            'factor': 0.5,\n",
    "            'patience': 5,\n",
    "            'min_lr': 0.00001\n",
    "        }\n",
    "    }\n",
    "}\n",
    "\n",
    "# 打印配置摘要\n",
    "print(\"模型配置:\")\n",
    "print(\"==========\")\n",
    "print(f\"架构: {model_config['model']['architecture']}\")\n",
    "print(f\"层大小: {model_config['model']['layer_sizes']}\")\n",
    "print(f\"Dropout率: {model_config['model']['dropout_rate']}\")\n",
    "print(f\"激活函数: {model_config['model']['activation']}\")\n",
    "print(f\"使用批归一化: {model_config['model']['use_batch_norm']}\")\n",
    "\n",
    "print(\"\\n训练配置:\")\n",
    "print(\"==========\")\n",
    "print(f\"批大小: {model_config['training']['batch_size']}\")\n",
    "print(f\"训练轮数: {model_config['training']['epochs']}\")\n",
    "print(f\"学习率: {model_config['training']['learning_rate']}\")\n",
    "print(f\"优化器: {model_config['training']['optimizer']}\")\n",
    "print(f\"早停耐心值: {model_config['training']['early_stopping_patience']}\")"
   ]
  },
  {
   "cell_type": "markdown",
   "metadata": {},
   "source": [
    "## 4. 创建模型\n",
    "\n",
    "使用配置创建模型。"
   ]
  },
  {
   "cell_type": "code",
   "execution_count": null,
   "metadata": {},
   "outputs": [],
   "source": [
    "# 获取输入形状和类别数\n",
    "input_shape = (x_train.shape[1], x_train.shape[2])\n",
    "num_classes = len(np.unique(y_train))\n",
    "\n",
    "# 创建模型\n",
    "model = create_model(\n",
    "    config=model_config['model'],\n",
    "    input_shape=input_shape,\n",
    "    num_classes=num_classes\n",
    ")\n",
    "\n",
    "# 显示模型结构\n",
    "model.summary()"
   ]
  },
  {
   "cell_type": "markdown",
   "metadata": {},
   "source": [
    "## 5. 准备训练回调函数\n",
    "\n",
    "设置训练过程中使用的回调函数。"
   ]
  },
  {
   "cell_type": "code",
   "execution_count": null,
   "metadata": {},
   "outputs": [],
   "source": [
    "# 创建回调函数列表\n",
    "callbacks = []\n",
    "\n",
    "# 早停回调\n",
    "if model_config['training']['early_stopping_patience'] > 0:\n",
    "    early_stopping = tf.keras.callbacks.EarlyStopping(\n",
    "        monitor='val_loss',\n",
    "        patience=model_config['training']['early_stopping_patience'],\n",
    "        restore_best_weights=True,\n",
    "        verbose=1\n",
    "    )\n",
    "    callbacks.append(early_stopping)\n",
    "\n",
    "# 学习率调度器\n",
    "lr_scheduler = get_learning_rate_scheduler(model_config['training'])\n",
    "if lr_scheduler:\n",
    "    callbacks.append(lr_scheduler)\n",
    "\n",
    "# TensorBoard回调\n",
    "log_dir = os.path.join('logs', 'fit', pd.Timestamp.now().strftime(\"%Y%m%d-%H%M%S\"))\n",
    "tensorboard_callback = tf.keras.callbacks.TensorBoard(\n",
    "    log_dir=log_dir,\n",
    "    histogram_freq=1\n",
    ")\n",
    "callbacks.append(tensorboard_callback)\n",
    "\n",
    "print(f\"使用的回调函数:\")\n",
    "for callback in callbacks:\n",
    "    print(f\"  - {callback.__class__.__name__}\")"
   ]
  },
  {
   "cell_type": "markdown",
   "metadata": {},
   "source": [
    "## 6. 计算类别权重\n",
    "\n",
    "为不平衡的类别分布计算权重。"
   ]
  },
  {
   "cell_type": "code",
   "execution_count": null,
   "metadata": {},
   "outputs": [],
   "source": [
    "# 计算类别权重\n",
    "if model_config['training']['use_class_weights']:\n",
    "    unique, counts = np.unique(y_train, return_counts=True)\n",
    "    total = len(y_train)\n",
    "    class_weights = {}\n",
    "    \n",
    "    for i, count in zip(unique, counts):\n",
    "        class_weights[int(i)] = total / (len(unique) * count)\n",
    "    \n",
    "    print(\"类别权重:\")\n",
    "    for class_id, weight in class_weights.items():\n",
    "        print(f\"  类别 {class_id} ({['静止', '走路', '跑步'][class_id]}): {weight:.4f}\")\n",
    "else:\n",
    "    class_weights = None"
   ]
  },
  {
   "cell_type": "markdown",
   "metadata": {},
   "source": [
    "## 7. 训练模型\n",
    "\n",
    "使用准备好的数据和配置训练模型。"
   ]
  },
  {
   "cell_type": "code",
   "execution_count": null,
   "metadata": {},
   "outputs": [],
   "source": [
    "# 训练模型\n",
    "history = model.fit(\n",
    "    x_train, y_train,\n",
    "    batch_size=model_config['training']['batch_size'],\n",
    "    epochs=model_config['training']['epochs'],\n",
    "    validation_data=(x_val, y_val),\n",
    "    callbacks=callbacks,\n",
    "    class_weight=class_weights,\n",
    "    verbose=1\n",
    ")"
   ]
  },
  {
   "cell_type": "markdown",
   "metadata": {},
   "source": [
    "## 8. 可视化训练过程\n",
    "\n",
    "绘制训练和验证指标的变化。"
   ]
  },
  {
   "cell_type": "code",
   "execution_count": null,
   "metadata": {},
   "outputs": [],
   "source": [
    "# 绘制训练历史\n",
    "plt.figure(figsize=(12, 4))\n",
    "\n",
    "# 损失曲线\n",
    "plt.subplot(1, 2, 1)\n",
    "plt.plot(history.history['loss'], label='训练损失')\n",
    "plt.plot(history.history['val_loss'], label='验证损失')\n",
    "plt.title('模型损失')\n",
    "plt.xlabel('轮数')\n",
    "plt.ylabel('损失')\n",
    "plt.legend()\n",
    "plt.grid(True)\n",
    "\n",
    "# 准确率曲线\n",
    "plt.subplot(1, 2, 2)\n",
    "plt.plot(history.history['accuracy'], label='训练准确率')\n",
    "plt.plot(history.history['val_accuracy'], label='验证准确率')\n",
    "plt.title('模型准确率')\n",
    "plt.xlabel('轮数')\n",
    "plt.ylabel('准确率')\n",
    "plt.legend()\n",
    "plt.grid(True)\n",
    "\n",
    "plt.tight_layout()\n",
    "plt.show()"
   ]
  },
  {
   "cell_type": "markdown",
   "metadata": {},
   "source": [
    "## 9. 评估模型\n",
    "\n",
    "在测试集上评估模型性能。"
   ]
  },
  {
   "cell_type": "code",
   "execution_count": null,
   "metadata": {},
   "outputs": [],
   "source": [
    "# 在测试集上评估\n",
    "test_loss, test_acc = model.evaluate(x_test, y_test, verbose=0)\n",
    "print(f\"测试集损失: {test_loss:.4f}\")\n",
    "print(f\"测试集准确率: {test_acc:.4f}\")\n",
    "\n",
    "# 获取预测结果\n",
    "y_pred = model.predict(x_test)\n",
    "if y_pred.shape[1] > 1:\n",
    "    y_pred = np.argmax(y_pred, axis=1)\n",
    "else:\n",
    "    y_pred = (y_pred > 0.5).astype(int).flatten()\n",
    "\n",
    "# 计算混淆矩阵\n",
    "cm = tf.math.confusion_matrix(y_test, y_pred)\n",
    "\n",
    "# 绘制混淆矩阵\n",
    "plt.figure(figsize=(8, 6))\n",
    "sns.heatmap(\n",
    "    cm,\n",
    "    annot=True,\n",
    "    fmt='d',\n",
    "    cmap='Blues',\n",
    "    xticklabels=['静止', '走路', '跑步'],\n",
    "    yticklabels=['静止', '走路', '跑步']\n",
    ")\n",
    "plt.title('混淆矩阵')\n",
    "plt.xlabel('预测标签')\n",
    "plt.ylabel('真实标签')\n",
    "plt.show()\n",
    "\n",
    "# 计算每个类别的性能指标\n",
    "for i in range(num_classes):\n",
    "    class_name = ['静止', '走路', '跑步'][i]\n",
    "    precision = cm[i, i] / np.sum(cm[:, i])\n",
    "    recall = cm[i, i] / np.sum(cm[i, :])\n",
    "    f1 = 2 * (precision * recall) / (precision + recall)\n",
    "    \n",
    "    print(f\"\\n类别 {i} ({class_name}):\")\n",
    "    print(f\"  精确率: {precision:.4f}\")\n",
    "    print(f\"  召回率: {recall:.4f}\")\n",
    "    print(f\"  F1分数: {f1:.4f}\")"
   ]
  },
  {
   "cell_type": "markdown",
   "metadata": {},
   "source": [
    "## 10. 可视化错误预测\n",
    "\n",
    "查看一些被模型错误分类的样本。"
   ]
  },
  {
   "cell_type": "code",
   "execution_count": null,
   "metadata": {},
   "outputs": [],
   "source": [
    "# 找出错误预测的样本\n",
    "errors = np.where(y_pred != y_test)[0]\n",
    "print(f\"错误预测数量: {len(errors)}\")\n",
    "\n",
    "# 显示前3个错误预测的样本\n",
    "n_examples = min(3, len(errors))\n",
    "plt.figure(figsize=(15, 4*n_examples))\n",
    "\n",
    "for i, idx in enumerate(errors[:n_examples]):\n",
    "    # 加速度数据\n",
    "    plt.subplot(n_examples, 2, i*2+1)\n",
    "    plt.plot(x_test[idx, :, 0], label='X')\n",
    "    plt.plot(x_test[idx, :, 1], label='Y')\n",
    "    plt.plot(x_test[idx, :, 2], label='Z')\n",
    "    plt.title(f'错误 {i+1} - 加速度\\n真实: {[\"静止\", \"走路\", \"跑步\"][int(y_test[idx])]} | 预测: {[\"静止\", \"走路\", \"跑步\"][int(y_pred[idx])]}')\n",
    "    plt.xlabel('时间点')\n",
    "    plt.ylabel('加速度')\n",
    "    plt.legend()\n",
    "    plt.grid(True)\n",
    "    \n",
    "    # 陀螺仪数据\n",
    "    plt.subplot(n_examples, 2, i*2+2)\n",
    "    plt.plot(x_test[idx, :, 3], label='X')\n",
    "    plt.plot(x_test[idx, :, 4], label='Y')\n",
    "    plt.plot(x_test[idx, :, 5], label='Z')\n",
    "    plt.title(f'错误 {i+1} - 陀螺仪\\n真实: {[\"静止\", \"走路\", \"跑步\"][int(y_test[idx])]} | 预测: {[\"静止\", \"走路\", \"跑步\"][int(y_pred[idx])]}')\n",
    "    plt.xlabel('时间点')\n",
    "    plt.ylabel('角速度')\n",
    "    plt.legend()\n",
    "    plt.grid(True)\n",
    "\n",
    "plt.tight_layout()\n",
    "plt.show()"
   ]
  },
  {
   "cell_type": "markdown",
   "metadata": {},
   "source": [
    "## 11. 保存模型\n",
    "\n",
    "保存训练好的模型和相关元数据。"
   ]
  },
  {
   "cell_type": "code",
   "execution_count": null,
   "metadata": {},
   "outputs": [],
   "source": [
    "# 创建输出目录\n",
    "output_dir = 'trained_models'\n",
    "os.makedirs(output_dir, exist_ok=True)\n",
    "\n",
    "# 保存模型\n",
    "model_name = f\"{model_config['model']['architecture']}_model\"\n",
    "model_path = save_model_with_metadata(\n",
    "    model=model,\n",
    "    output_dir=output_dir,\n",
    "    model_name=model_name,\n",
    "    config=model_config,\n",
    "    input_shape=input_shape,\n",
    "    num_classes=num_classes,\n",
    "    class_names=['静止', '走路', '跑步'],\n",
    "    feature_names=['accel_x', 'accel_y', 'accel_z', 'gyro_x', 'gyro_y', 'gyro_z']\n",
    ")\n",
    "\n",
    "print(f\"模型已保存到 {model_path}\")"
   ]
  },
  {
   "cell_type": "markdown",
   "metadata": {},
   "source": [
    "## 12. 使用命令行工具\n",
    "\n",
    "展示如何使用命令行工具进行模型训练和评估。"
   ]
  },
  {
   "cell_type": "code",
   "execution_count": null,
   "metadata": {},
   "outputs": [],
   "source": [
    "print(\"训练命令示例:\")\n",
    "print(\"train-model \\\n",
    "    --data processed_data.npz \\\n",
    "    --config model_config.yaml \\\n",
    "    --output-dir trained_models \\\n",
    "    --name lstm_model \\\n",
    "    --epochs 50 \\\n",
    "    --batch-size 32 \\\n",
    "    --learning-rate 0.001\")\n",
    "\n",
    "print(\"\\n评估命令示例:\")\n",
    "print(\"evaluate-model \\\n",
    "    --model trained_models/lstm_model.h5 \\\n",
    "    --data test_data.npz \\\n",
    "    --output-dir evaluation \\\n",
    "    --class-names 静止,走路,跑步\")"
   ]
  },
  {
   "cell_type": "markdown",
   "metadata": {},
   "source": [
    "## 13. 总结\n",
    "\n",
    "在本笔记本中，我们展示了如何使用ML Pipeline进行时间序列分类模型的训练：\n",
    "\n",
    "1. 加载和准备数据\n",
    "2. 配置和创建模型\n",
    "3. 设置训练参数和回调函数\n",
    "4. 训练模型\n",
    "5. 评估模型性能\n",
    "6. 可视化结果\n",
    "7. 保存模型\n",
    "\n",
    "这个流程可以作为开发自己的时间序列分类模型的起点。通过调整模型架构、超参数和训练策略，你可以进一步提高模型性能。"
   ]
  }
 ],
 "metadata": {
  "kernelspec": {
   "display_name": "Python 3",
   "language": "python",
   "name": "python3"
  },
  "language_info": {
   "codemirror_mode": {
    "name": "ipython",
    "version": 3
   },
   "file_extension": ".py",
   "mimetype": "text/x-python",
   "name": "python",
   "nbconvert_exporter": "python",
   "pygments_lexer": "ipython3",
   "version": "3.8.0"
  }
 },
 "nbformat": 4,
 "nbformat_minor": 4
}